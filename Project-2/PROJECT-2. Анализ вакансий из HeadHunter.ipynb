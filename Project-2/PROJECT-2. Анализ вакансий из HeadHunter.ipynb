{
  "cells": [
    {
      "cell_type": "markdown",
      "id": "42289889-bd57-434e-9637-d3e354756316",
      "metadata": {
        "id": "42289889-bd57-434e-9637-d3e354756316"
      },
      "source": [
        "<center> <img src = https://raw.githubusercontent.com/AndreyRysistov/DatasetsForPandas/main/hh%20label.jpg alt=\"drawing\" style=\"width:400px;\">"
      ]
    },
    {
      "cell_type": "markdown",
      "id": "829cb75b-f14e-4ba8-9195-7ba929a7d656",
      "metadata": {
        "id": "829cb75b-f14e-4ba8-9195-7ba929a7d656",
        "tags": []
      },
      "source": [
        "# <center> Проект: Анализ вакансий из HeadHunter\n",
        "   "
      ]
    },
    {
      "cell_type": "code",
      "execution_count": 1,
      "id": "dccfde33-2452-43fb-a8a5-5c6ebc02a71d",
      "metadata": {
        "id": "dccfde33-2452-43fb-a8a5-5c6ebc02a71d"
      },
      "outputs": [],
      "source": [
        "import sqlalchemy\n",
        "import pandas as pd"
      ]
    },
    {
      "cell_type": "code",
      "execution_count": 3,
      "id": "oVKH4ehvf8Ay",
      "metadata": {
        "id": "oVKH4ehvf8Ay"
      },
      "outputs": [],
      "source": [
        "# вставьте сюда параметры подключения из юнита 1. Работа с базой данных из Python\n",
        "DBNAME = ''\n",
        "USER = ''\n",
        "PASSWORD = ''\n",
        "HOST = ''\n",
        "PORT = "
      ]
    },
    {
      "cell_type": "code",
      "execution_count": 4,
      "id": "G4X_q8KBf7SF",
      "metadata": {
        "id": "G4X_q8KBf7SF"
      },
      "outputs": [],
      "source": [
        "connection = sqlalchemy.create_engine(f\"postgresql+psycopg2://{USER}:{PASSWORD}@{HOST}:{PORT}/{DBNAME}\")"
      ]
    },
    {
      "cell_type": "markdown",
      "id": "0dc6476b-7a00-44f1-ac93-6e3baed33a29",
      "metadata": {
        "id": "0dc6476b-7a00-44f1-ac93-6e3baed33a29"
      },
      "source": [
        "# Юнит 3. Предварительный анализ данных"
      ]
    },
    {
      "cell_type": "markdown",
      "id": "889782b6-8d1c-410e-8920-e57f27917c64",
      "metadata": {
        "id": "889782b6-8d1c-410e-8920-e57f27917c64"
      },
      "source": [
        "1. Напишите запрос, который посчитает количество вакансий в нашей базе (вакансии находятся в таблице vacancies). "
      ]
    },
    {
      "cell_type": "code",
      "execution_count": 5,
      "id": "bc39e68e-ed02-4ee2-9235-7258a2f867a8",
      "metadata": {
        "id": "bc39e68e-ed02-4ee2-9235-7258a2f867a8"
      },
      "outputs": [],
      "source": [
        "# текст запроса\n",
        "query_3_1 = f'''SELECT\n",
        "               COUNT(id) vacancies_count\n",
        "               FROM public.vacancies\n",
        "            '''"
      ]
    },
    {
      "cell_type": "code",
      "execution_count": 6,
      "id": "7mAwtsk4hEHY",
      "metadata": {
        "id": "7mAwtsk4hEHY"
      },
      "outputs": [
        {
          "data": {
            "text/html": [
              "<div>\n",
              "<style scoped>\n",
              "    .dataframe tbody tr th:only-of-type {\n",
              "        vertical-align: middle;\n",
              "    }\n",
              "\n",
              "    .dataframe tbody tr th {\n",
              "        vertical-align: top;\n",
              "    }\n",
              "\n",
              "    .dataframe thead th {\n",
              "        text-align: right;\n",
              "    }\n",
              "</style>\n",
              "<table border=\"1\" class=\"dataframe\">\n",
              "  <thead>\n",
              "    <tr style=\"text-align: right;\">\n",
              "      <th></th>\n",
              "      <th>vacancies_count</th>\n",
              "    </tr>\n",
              "  </thead>\n",
              "  <tbody>\n",
              "    <tr>\n",
              "      <th>0</th>\n",
              "      <td>49197</td>\n",
              "    </tr>\n",
              "  </tbody>\n",
              "</table>\n",
              "</div>"
            ],
            "text/plain": [
              "   vacancies_count\n",
              "0            49197"
            ]
          },
          "execution_count": 6,
          "metadata": {},
          "output_type": "execute_result"
        }
      ],
      "source": [
        "# результат запроса\n",
        "df = pd.read_sql_query(query_3_1, connection)\n",
        "df"
      ]
    },
    {
      "cell_type": "markdown",
      "id": "b583485d-1f9e-494e-ada4-80ffff7c53d6",
      "metadata": {
        "id": "b583485d-1f9e-494e-ada4-80ffff7c53d6"
      },
      "source": [
        "2. Напишите запрос, который посчитает количество работодателей (таблица employers). "
      ]
    },
    {
      "cell_type": "code",
      "execution_count": 7,
      "id": "5408c52c-3407-4a63-b25b-1aafa2322d28",
      "metadata": {
        "id": "5408c52c-3407-4a63-b25b-1aafa2322d28"
      },
      "outputs": [],
      "source": [
        "# текст запроса\n",
        "query_3_2 = f'''SELECT\n",
        "               COUNT(id) employers_count\n",
        "               FROM public.employers\n",
        "            '''"
      ]
    },
    {
      "cell_type": "code",
      "execution_count": 8,
      "id": "jVL4eshKhdqc",
      "metadata": {
        "id": "jVL4eshKhdqc"
      },
      "outputs": [
        {
          "data": {
            "text/html": [
              "<div>\n",
              "<style scoped>\n",
              "    .dataframe tbody tr th:only-of-type {\n",
              "        vertical-align: middle;\n",
              "    }\n",
              "\n",
              "    .dataframe tbody tr th {\n",
              "        vertical-align: top;\n",
              "    }\n",
              "\n",
              "    .dataframe thead th {\n",
              "        text-align: right;\n",
              "    }\n",
              "</style>\n",
              "<table border=\"1\" class=\"dataframe\">\n",
              "  <thead>\n",
              "    <tr style=\"text-align: right;\">\n",
              "      <th></th>\n",
              "      <th>employers_count</th>\n",
              "    </tr>\n",
              "  </thead>\n",
              "  <tbody>\n",
              "    <tr>\n",
              "      <th>0</th>\n",
              "      <td>23501</td>\n",
              "    </tr>\n",
              "  </tbody>\n",
              "</table>\n",
              "</div>"
            ],
            "text/plain": [
              "   employers_count\n",
              "0            23501"
            ]
          },
          "execution_count": 8,
          "metadata": {},
          "output_type": "execute_result"
        }
      ],
      "source": [
        "# результат запроса\n",
        "df = pd.read_sql_query(query_3_2, connection)\n",
        "df"
      ]
    },
    {
      "cell_type": "markdown",
      "id": "a2bfff1f-c975-4bf6-84be-2185d79dcb76",
      "metadata": {
        "id": "a2bfff1f-c975-4bf6-84be-2185d79dcb76"
      },
      "source": [
        "3. Посчитате с помощью запроса количество регионов (таблица areas)."
      ]
    },
    {
      "cell_type": "code",
      "execution_count": 9,
      "id": "1m8QJwBYhey6",
      "metadata": {
        "id": "1m8QJwBYhey6"
      },
      "outputs": [],
      "source": [
        "# текст запроса\n",
        "query_3_3 = f'''SELECT\n",
        "               COUNT(id) areas_count\n",
        "               FROM public.areas\n",
        "            '''"
      ]
    },
    {
      "cell_type": "code",
      "execution_count": 10,
      "id": "EZsn9tlfhe7f",
      "metadata": {
        "id": "EZsn9tlfhe7f"
      },
      "outputs": [
        {
          "data": {
            "text/html": [
              "<div>\n",
              "<style scoped>\n",
              "    .dataframe tbody tr th:only-of-type {\n",
              "        vertical-align: middle;\n",
              "    }\n",
              "\n",
              "    .dataframe tbody tr th {\n",
              "        vertical-align: top;\n",
              "    }\n",
              "\n",
              "    .dataframe thead th {\n",
              "        text-align: right;\n",
              "    }\n",
              "</style>\n",
              "<table border=\"1\" class=\"dataframe\">\n",
              "  <thead>\n",
              "    <tr style=\"text-align: right;\">\n",
              "      <th></th>\n",
              "      <th>areas_count</th>\n",
              "    </tr>\n",
              "  </thead>\n",
              "  <tbody>\n",
              "    <tr>\n",
              "      <th>0</th>\n",
              "      <td>1362</td>\n",
              "    </tr>\n",
              "  </tbody>\n",
              "</table>\n",
              "</div>"
            ],
            "text/plain": [
              "   areas_count\n",
              "0         1362"
            ]
          },
          "execution_count": 10,
          "metadata": {},
          "output_type": "execute_result"
        }
      ],
      "source": [
        "# результат запроса\n",
        "df = pd.read_sql_query(query_3_3, connection)\n",
        "df"
      ]
    },
    {
      "cell_type": "markdown",
      "id": "41bb59f3-53cc-4a67-a5bc-bedf573955e4",
      "metadata": {
        "id": "41bb59f3-53cc-4a67-a5bc-bedf573955e4"
      },
      "source": [
        "4. Посчитате с помощью запроса количество сфер деятельности в базе (таблица industries)."
      ]
    },
    {
      "cell_type": "code",
      "execution_count": 11,
      "id": "d286cf4c-707b-4cd2-9190-7ab3587d04a1",
      "metadata": {
        "id": "d286cf4c-707b-4cd2-9190-7ab3587d04a1"
      },
      "outputs": [],
      "source": [
        "# текст запроса\n",
        "query_3_4 = f'''SELECT\n",
        "               COUNT(id) industries_count\n",
        "               FROM public.industries\n",
        "            '''"
      ]
    },
    {
      "cell_type": "code",
      "execution_count": 14,
      "id": "JYAaoZ4qhfzW",
      "metadata": {
        "id": "JYAaoZ4qhfzW"
      },
      "outputs": [
        {
          "data": {
            "text/html": [
              "<div>\n",
              "<style scoped>\n",
              "    .dataframe tbody tr th:only-of-type {\n",
              "        vertical-align: middle;\n",
              "    }\n",
              "\n",
              "    .dataframe tbody tr th {\n",
              "        vertical-align: top;\n",
              "    }\n",
              "\n",
              "    .dataframe thead th {\n",
              "        text-align: right;\n",
              "    }\n",
              "</style>\n",
              "<table border=\"1\" class=\"dataframe\">\n",
              "  <thead>\n",
              "    <tr style=\"text-align: right;\">\n",
              "      <th></th>\n",
              "      <th>industries_count</th>\n",
              "    </tr>\n",
              "  </thead>\n",
              "  <tbody>\n",
              "    <tr>\n",
              "      <th>0</th>\n",
              "      <td>294</td>\n",
              "    </tr>\n",
              "  </tbody>\n",
              "</table>\n",
              "</div>"
            ],
            "text/plain": [
              "   industries_count\n",
              "0               294"
            ]
          },
          "execution_count": 14,
          "metadata": {},
          "output_type": "execute_result"
        }
      ],
      "source": [
        "# результат запроса\n",
        "df = pd.read_sql_query(query_3_4, connection)\n",
        "df"
      ]
    },
    {
      "cell_type": "markdown",
      "id": "9a8a2181-6914-448b-85f1-38f5f18b8a93",
      "metadata": {
        "id": "9a8a2181-6914-448b-85f1-38f5f18b8a93"
      },
      "source": [
        "***"
      ]
    },
    {
      "cell_type": "code",
      "execution_count": null,
      "id": "be4e9bd3-a4db-4a20-82fb-6b02fc2957e0",
      "metadata": {
        "id": "be4e9bd3-a4db-4a20-82fb-6b02fc2957e0"
      },
      "outputs": [],
      "source": [
        "# выводы по предварительному анализу данных"
      ]
    },
    {
      "attachments": {},
      "cell_type": "markdown",
      "id": "7fc40799",
      "metadata": {},
      "source": [
        "- В представленной базе 49197 вакансий от 23501 работодателя, распологающихся в 1362 регионах и разделенных на 294 сферы деятельности. \n",
        "- На каждого работодателя, в среднем, приходится по 2 вакансии (2,09). Скорее всего, у крупных компаний значительно больше вакансий, чем 2. Можно предположить, что некоторые работодатели просто не ищут сотрудников или что выборка состоит из достаточно маленьких компаний.\n",
        "- Всего в базе данных представлено 1362 территориальных области, это говорит о том, что исходя из общего списочного количества в качестве региона указываются не только города России или в базе также представлены иногородние и зарубежные вакансии. Также возможен вариант разного написания одной и той же территориальной области при обозначении региона.\n",
        "- Сфер деятельности достаточно много (294), но не очень понятно, насколько они уникальны, т.е. есть ли сферы разные по названию, но очень похожие по содержанию.\n",
        "\n",
        "Для корректного понимания данных необходим более глубокий анализ, т.к. средние значения плохо отображают реальность."
      ]
    },
    {
      "cell_type": "markdown",
      "id": "8d62a9f3-f64e-4fe7-bdac-c4dffa16155e",
      "metadata": {
        "id": "8d62a9f3-f64e-4fe7-bdac-c4dffa16155e"
      },
      "source": [
        "# Юнит 4. Детальный анализ вакансий"
      ]
    },
    {
      "cell_type": "markdown",
      "id": "93053d3d-b284-481a-9cf7-012d7014c0e0",
      "metadata": {
        "id": "93053d3d-b284-481a-9cf7-012d7014c0e0"
      },
      "source": [
        "1. Напишите запрос, который позволит узнать, сколько (cnt) вакансий в каждом регионе (area).\n",
        "Отсортируйте по количеству вакансий в порядке убывания."
      ]
    },
    {
      "cell_type": "code",
      "execution_count": 39,
      "id": "3f069da6-fdc9-4ae7-b514-fafe2675efd3",
      "metadata": {
        "id": "3f069da6-fdc9-4ae7-b514-fafe2675efd3"
      },
      "outputs": [],
      "source": [
        "# текст запроса\n",
        "query_4_1 = f'''SELECT\n",
        "               a.name area,\n",
        "               COUNT(v.id) cnt\n",
        "               FROM public.vacancies v\n",
        "               JOIN public.areas a ON v.area_id = a.id\n",
        "               GROUP BY 1\n",
        "               ORDER BY 2 DESC\n",
        "            '''"
      ]
    },
    {
      "cell_type": "code",
      "execution_count": 40,
      "id": "P7QL86hrjhRJ",
      "metadata": {
        "id": "P7QL86hrjhRJ"
      },
      "outputs": [
        {
          "data": {
            "text/html": [
              "<div>\n",
              "<style scoped>\n",
              "    .dataframe tbody tr th:only-of-type {\n",
              "        vertical-align: middle;\n",
              "    }\n",
              "\n",
              "    .dataframe tbody tr th {\n",
              "        vertical-align: top;\n",
              "    }\n",
              "\n",
              "    .dataframe thead th {\n",
              "        text-align: right;\n",
              "    }\n",
              "</style>\n",
              "<table border=\"1\" class=\"dataframe\">\n",
              "  <thead>\n",
              "    <tr style=\"text-align: right;\">\n",
              "      <th></th>\n",
              "      <th>area</th>\n",
              "      <th>cnt</th>\n",
              "    </tr>\n",
              "  </thead>\n",
              "  <tbody>\n",
              "    <tr>\n",
              "      <th>0</th>\n",
              "      <td>Москва</td>\n",
              "      <td>5333</td>\n",
              "    </tr>\n",
              "    <tr>\n",
              "      <th>1</th>\n",
              "      <td>Санкт-Петербург</td>\n",
              "      <td>2851</td>\n",
              "    </tr>\n",
              "    <tr>\n",
              "      <th>2</th>\n",
              "      <td>Минск</td>\n",
              "      <td>2112</td>\n",
              "    </tr>\n",
              "    <tr>\n",
              "      <th>3</th>\n",
              "      <td>Новосибирск</td>\n",
              "      <td>2006</td>\n",
              "    </tr>\n",
              "    <tr>\n",
              "      <th>4</th>\n",
              "      <td>Алматы</td>\n",
              "      <td>1892</td>\n",
              "    </tr>\n",
              "    <tr>\n",
              "      <th>...</th>\n",
              "      <td>...</td>\n",
              "      <td>...</td>\n",
              "    </tr>\n",
              "    <tr>\n",
              "      <th>764</th>\n",
              "      <td>Тарко-Сале</td>\n",
              "      <td>1</td>\n",
              "    </tr>\n",
              "    <tr>\n",
              "      <th>765</th>\n",
              "      <td>Новоаннинский</td>\n",
              "      <td>1</td>\n",
              "    </tr>\n",
              "    <tr>\n",
              "      <th>766</th>\n",
              "      <td>Бирск</td>\n",
              "      <td>1</td>\n",
              "    </tr>\n",
              "    <tr>\n",
              "      <th>767</th>\n",
              "      <td>Сасово</td>\n",
              "      <td>1</td>\n",
              "    </tr>\n",
              "    <tr>\n",
              "      <th>768</th>\n",
              "      <td>Анна</td>\n",
              "      <td>1</td>\n",
              "    </tr>\n",
              "  </tbody>\n",
              "</table>\n",
              "<p>769 rows × 2 columns</p>\n",
              "</div>"
            ],
            "text/plain": [
              "                area   cnt\n",
              "0             Москва  5333\n",
              "1    Санкт-Петербург  2851\n",
              "2              Минск  2112\n",
              "3        Новосибирск  2006\n",
              "4             Алматы  1892\n",
              "..               ...   ...\n",
              "764       Тарко-Сале     1\n",
              "765    Новоаннинский     1\n",
              "766            Бирск     1\n",
              "767           Сасово     1\n",
              "768             Анна     1\n",
              "\n",
              "[769 rows x 2 columns]"
            ]
          },
          "execution_count": 40,
          "metadata": {},
          "output_type": "execute_result"
        }
      ],
      "source": [
        "# результат запроса\n",
        "df = pd.read_sql_query(query_4_1, connection)\n",
        "df"
      ]
    },
    {
      "cell_type": "markdown",
      "id": "4266f0b6-1646-492a-88b4-2f6a46502135",
      "metadata": {
        "id": "4266f0b6-1646-492a-88b4-2f6a46502135"
      },
      "source": [
        "2. Напишите запрос, чтобы определить у какого количества вакансий заполнено хотя бы одно из двух полей с зарплатой."
      ]
    },
    {
      "cell_type": "code",
      "execution_count": 41,
      "id": "0c44b350-72eb-4d65-8b54-a1fc449ba9fd",
      "metadata": {
        "id": "0c44b350-72eb-4d65-8b54-a1fc449ba9fd"
      },
      "outputs": [],
      "source": [
        "# текст запроса\n",
        "query_4_2 = f'''SELECT\n",
        "               COUNT(id)\n",
        "               FROM public.vacancies \n",
        "               WHERE salary_from IS NOT NULL \n",
        "               OR salary_to IS NOT NULL\n",
        "            '''"
      ]
    },
    {
      "cell_type": "code",
      "execution_count": 42,
      "id": "rhvwaMDkoWTi",
      "metadata": {
        "id": "rhvwaMDkoWTi"
      },
      "outputs": [
        {
          "data": {
            "text/html": [
              "<div>\n",
              "<style scoped>\n",
              "    .dataframe tbody tr th:only-of-type {\n",
              "        vertical-align: middle;\n",
              "    }\n",
              "\n",
              "    .dataframe tbody tr th {\n",
              "        vertical-align: top;\n",
              "    }\n",
              "\n",
              "    .dataframe thead th {\n",
              "        text-align: right;\n",
              "    }\n",
              "</style>\n",
              "<table border=\"1\" class=\"dataframe\">\n",
              "  <thead>\n",
              "    <tr style=\"text-align: right;\">\n",
              "      <th></th>\n",
              "      <th>count</th>\n",
              "    </tr>\n",
              "  </thead>\n",
              "  <tbody>\n",
              "    <tr>\n",
              "      <th>0</th>\n",
              "      <td>24073</td>\n",
              "    </tr>\n",
              "  </tbody>\n",
              "</table>\n",
              "</div>"
            ],
            "text/plain": [
              "   count\n",
              "0  24073"
            ]
          },
          "execution_count": 42,
          "metadata": {},
          "output_type": "execute_result"
        }
      ],
      "source": [
        "# результат запроса\n",
        "df = pd.read_sql_query(query_4_2, connection)\n",
        "df"
      ]
    },
    {
      "cell_type": "markdown",
      "id": "635c4d5d-f323-4c66-b428-50a088120aa0",
      "metadata": {
        "id": "635c4d5d-f323-4c66-b428-50a088120aa0"
      },
      "source": [
        "3. Найдите средние значения для нижней и верхней границы зарплатной вилки. Округлите значения до целого."
      ]
    },
    {
      "cell_type": "code",
      "execution_count": 50,
      "id": "603cdbe4-0ec3-4106-8eaf-c73fcdd29165",
      "metadata": {
        "id": "603cdbe4-0ec3-4106-8eaf-c73fcdd29165"
      },
      "outputs": [],
      "source": [
        "# текст запроса\n",
        "query_4_3 = f'''SELECT\n",
        "               ROUND(AVG(salary_from)) salary_from_avg,\n",
        "               ROUND(AVG(salary_to)) salary_to_avg\n",
        "               FROM public.vacancies\n",
        "            '''"
      ]
    },
    {
      "cell_type": "code",
      "execution_count": 51,
      "id": "pswpAb66ovZZ",
      "metadata": {
        "id": "pswpAb66ovZZ"
      },
      "outputs": [
        {
          "data": {
            "text/html": [
              "<div>\n",
              "<style scoped>\n",
              "    .dataframe tbody tr th:only-of-type {\n",
              "        vertical-align: middle;\n",
              "    }\n",
              "\n",
              "    .dataframe tbody tr th {\n",
              "        vertical-align: top;\n",
              "    }\n",
              "\n",
              "    .dataframe thead th {\n",
              "        text-align: right;\n",
              "    }\n",
              "</style>\n",
              "<table border=\"1\" class=\"dataframe\">\n",
              "  <thead>\n",
              "    <tr style=\"text-align: right;\">\n",
              "      <th></th>\n",
              "      <th>salary_from_avg</th>\n",
              "      <th>salary_to_avg</th>\n",
              "    </tr>\n",
              "  </thead>\n",
              "  <tbody>\n",
              "    <tr>\n",
              "      <th>0</th>\n",
              "      <td>71065.0</td>\n",
              "      <td>110537.0</td>\n",
              "    </tr>\n",
              "  </tbody>\n",
              "</table>\n",
              "</div>"
            ],
            "text/plain": [
              "   salary_from_avg  salary_to_avg\n",
              "0          71065.0       110537.0"
            ]
          },
          "execution_count": 51,
          "metadata": {},
          "output_type": "execute_result"
        }
      ],
      "source": [
        "# результат запроса\n",
        "df = pd.read_sql_query(query_4_3, connection)\n",
        "df"
      ]
    },
    {
      "cell_type": "markdown",
      "id": "f3fdaec9-5fd3-4260-9cf5-1d7406b628a5",
      "metadata": {
        "id": "f3fdaec9-5fd3-4260-9cf5-1d7406b628a5"
      },
      "source": [
        "4. Напишите запрос, который выведет количество вакансий для каждого сочетания типа рабочего графика (schedule) и типа трудоустройства (employment), используемого в вакансиях. Результат отсортируйте по убыванию количества.\n"
      ]
    },
    {
      "cell_type": "code",
      "execution_count": 52,
      "id": "1ea710ec-871b-431e-9462-c7d0fd87011b",
      "metadata": {
        "id": "1ea710ec-871b-431e-9462-c7d0fd87011b"
      },
      "outputs": [],
      "source": [
        "# текст запроса\n",
        "query_4_4 = f'''SELECT\n",
        "               schedule,\n",
        "               employment,\n",
        "               COUNT(id)\n",
        "               FROM public.vacancies \n",
        "               GROUP BY 1, 2\n",
        "               ORDER BY 3 DESC\n",
        "            '''"
      ]
    },
    {
      "cell_type": "code",
      "execution_count": 53,
      "id": "lGUVqavdo4JQ",
      "metadata": {
        "id": "lGUVqavdo4JQ"
      },
      "outputs": [
        {
          "data": {
            "text/html": [
              "<div>\n",
              "<style scoped>\n",
              "    .dataframe tbody tr th:only-of-type {\n",
              "        vertical-align: middle;\n",
              "    }\n",
              "\n",
              "    .dataframe tbody tr th {\n",
              "        vertical-align: top;\n",
              "    }\n",
              "\n",
              "    .dataframe thead th {\n",
              "        text-align: right;\n",
              "    }\n",
              "</style>\n",
              "<table border=\"1\" class=\"dataframe\">\n",
              "  <thead>\n",
              "    <tr style=\"text-align: right;\">\n",
              "      <th></th>\n",
              "      <th>schedule</th>\n",
              "      <th>employment</th>\n",
              "      <th>count</th>\n",
              "    </tr>\n",
              "  </thead>\n",
              "  <tbody>\n",
              "    <tr>\n",
              "      <th>0</th>\n",
              "      <td>Полный день</td>\n",
              "      <td>Полная занятость</td>\n",
              "      <td>35367</td>\n",
              "    </tr>\n",
              "    <tr>\n",
              "      <th>1</th>\n",
              "      <td>Удаленная работа</td>\n",
              "      <td>Полная занятость</td>\n",
              "      <td>7802</td>\n",
              "    </tr>\n",
              "    <tr>\n",
              "      <th>2</th>\n",
              "      <td>Гибкий график</td>\n",
              "      <td>Полная занятость</td>\n",
              "      <td>1593</td>\n",
              "    </tr>\n",
              "    <tr>\n",
              "      <th>3</th>\n",
              "      <td>Удаленная работа</td>\n",
              "      <td>Частичная занятость</td>\n",
              "      <td>1312</td>\n",
              "    </tr>\n",
              "    <tr>\n",
              "      <th>4</th>\n",
              "      <td>Сменный график</td>\n",
              "      <td>Полная занятость</td>\n",
              "      <td>940</td>\n",
              "    </tr>\n",
              "    <tr>\n",
              "      <th>5</th>\n",
              "      <td>Полный день</td>\n",
              "      <td>Стажировка</td>\n",
              "      <td>569</td>\n",
              "    </tr>\n",
              "    <tr>\n",
              "      <th>6</th>\n",
              "      <td>Вахтовый метод</td>\n",
              "      <td>Полная занятость</td>\n",
              "      <td>367</td>\n",
              "    </tr>\n",
              "    <tr>\n",
              "      <th>7</th>\n",
              "      <td>Полный день</td>\n",
              "      <td>Частичная занятость</td>\n",
              "      <td>347</td>\n",
              "    </tr>\n",
              "    <tr>\n",
              "      <th>8</th>\n",
              "      <td>Гибкий график</td>\n",
              "      <td>Частичная занятость</td>\n",
              "      <td>312</td>\n",
              "    </tr>\n",
              "    <tr>\n",
              "      <th>9</th>\n",
              "      <td>Полный день</td>\n",
              "      <td>Проектная работа</td>\n",
              "      <td>141</td>\n",
              "    </tr>\n",
              "    <tr>\n",
              "      <th>10</th>\n",
              "      <td>Удаленная работа</td>\n",
              "      <td>Проектная работа</td>\n",
              "      <td>133</td>\n",
              "    </tr>\n",
              "    <tr>\n",
              "      <th>11</th>\n",
              "      <td>Гибкий график</td>\n",
              "      <td>Стажировка</td>\n",
              "      <td>116</td>\n",
              "    </tr>\n",
              "    <tr>\n",
              "      <th>12</th>\n",
              "      <td>Сменный график</td>\n",
              "      <td>Частичная занятость</td>\n",
              "      <td>101</td>\n",
              "    </tr>\n",
              "    <tr>\n",
              "      <th>13</th>\n",
              "      <td>Удаленная работа</td>\n",
              "      <td>Стажировка</td>\n",
              "      <td>64</td>\n",
              "    </tr>\n",
              "    <tr>\n",
              "      <th>14</th>\n",
              "      <td>Гибкий график</td>\n",
              "      <td>Проектная работа</td>\n",
              "      <td>18</td>\n",
              "    </tr>\n",
              "    <tr>\n",
              "      <th>15</th>\n",
              "      <td>Сменный график</td>\n",
              "      <td>Стажировка</td>\n",
              "      <td>12</td>\n",
              "    </tr>\n",
              "    <tr>\n",
              "      <th>16</th>\n",
              "      <td>Вахтовый метод</td>\n",
              "      <td>Проектная работа</td>\n",
              "      <td>2</td>\n",
              "    </tr>\n",
              "    <tr>\n",
              "      <th>17</th>\n",
              "      <td>Сменный график</td>\n",
              "      <td>Проектная работа</td>\n",
              "      <td>1</td>\n",
              "    </tr>\n",
              "  </tbody>\n",
              "</table>\n",
              "</div>"
            ],
            "text/plain": [
              "            schedule           employment  count\n",
              "0        Полный день     Полная занятость  35367\n",
              "1   Удаленная работа     Полная занятость   7802\n",
              "2      Гибкий график     Полная занятость   1593\n",
              "3   Удаленная работа  Частичная занятость   1312\n",
              "4     Сменный график     Полная занятость    940\n",
              "5        Полный день           Стажировка    569\n",
              "6     Вахтовый метод     Полная занятость    367\n",
              "7        Полный день  Частичная занятость    347\n",
              "8      Гибкий график  Частичная занятость    312\n",
              "9        Полный день     Проектная работа    141\n",
              "10  Удаленная работа     Проектная работа    133\n",
              "11     Гибкий график           Стажировка    116\n",
              "12    Сменный график  Частичная занятость    101\n",
              "13  Удаленная работа           Стажировка     64\n",
              "14     Гибкий график     Проектная работа     18\n",
              "15    Сменный график           Стажировка     12\n",
              "16    Вахтовый метод     Проектная работа      2\n",
              "17    Сменный график     Проектная работа      1"
            ]
          },
          "execution_count": 53,
          "metadata": {},
          "output_type": "execute_result"
        }
      ],
      "source": [
        "# результат запроса\n",
        "df = pd.read_sql_query(query_4_4, connection)\n",
        "df"
      ]
    },
    {
      "cell_type": "markdown",
      "id": "0136ffee-0ead-4a6b-b608-61d1c753a438",
      "metadata": {
        "id": "0136ffee-0ead-4a6b-b608-61d1c753a438"
      },
      "source": [
        "5. Напишите запрос, выводящий значения поля Требуемый опыт работы (experience) в порядке возрастания количества вакансий, в которых указан данный вариант опыта. "
      ]
    },
    {
      "cell_type": "code",
      "execution_count": 54,
      "id": "5b3a8e79-f7ab-4008-b767-12aea3a205ea",
      "metadata": {
        "id": "5b3a8e79-f7ab-4008-b767-12aea3a205ea"
      },
      "outputs": [],
      "source": [
        "# текст запроса\n",
        "query_4_5 = f'''SELECT\n",
        "               experience,\n",
        "               COUNT(id)\n",
        "               FROM public.vacancies\n",
        "               GROUP BY 1\n",
        "               ORDER BY 2\n",
        "            '''"
      ]
    },
    {
      "cell_type": "code",
      "execution_count": 55,
      "id": "3Is64Y-hpDpq",
      "metadata": {
        "id": "3Is64Y-hpDpq"
      },
      "outputs": [
        {
          "data": {
            "text/html": [
              "<div>\n",
              "<style scoped>\n",
              "    .dataframe tbody tr th:only-of-type {\n",
              "        vertical-align: middle;\n",
              "    }\n",
              "\n",
              "    .dataframe tbody tr th {\n",
              "        vertical-align: top;\n",
              "    }\n",
              "\n",
              "    .dataframe thead th {\n",
              "        text-align: right;\n",
              "    }\n",
              "</style>\n",
              "<table border=\"1\" class=\"dataframe\">\n",
              "  <thead>\n",
              "    <tr style=\"text-align: right;\">\n",
              "      <th></th>\n",
              "      <th>experience</th>\n",
              "      <th>count</th>\n",
              "    </tr>\n",
              "  </thead>\n",
              "  <tbody>\n",
              "    <tr>\n",
              "      <th>0</th>\n",
              "      <td>Более 6 лет</td>\n",
              "      <td>1337</td>\n",
              "    </tr>\n",
              "    <tr>\n",
              "      <th>1</th>\n",
              "      <td>Нет опыта</td>\n",
              "      <td>7197</td>\n",
              "    </tr>\n",
              "    <tr>\n",
              "      <th>2</th>\n",
              "      <td>От 3 до 6 лет</td>\n",
              "      <td>14511</td>\n",
              "    </tr>\n",
              "    <tr>\n",
              "      <th>3</th>\n",
              "      <td>От 1 года до 3 лет</td>\n",
              "      <td>26152</td>\n",
              "    </tr>\n",
              "  </tbody>\n",
              "</table>\n",
              "</div>"
            ],
            "text/plain": [
              "           experience  count\n",
              "0         Более 6 лет   1337\n",
              "1           Нет опыта   7197\n",
              "2       От 3 до 6 лет  14511\n",
              "3  От 1 года до 3 лет  26152"
            ]
          },
          "execution_count": 55,
          "metadata": {},
          "output_type": "execute_result"
        }
      ],
      "source": [
        "# результат запроса\n",
        "df = pd.read_sql_query(query_4_5, connection)\n",
        "df"
      ]
    },
    {
      "cell_type": "markdown",
      "id": "oq2b7n1QpIka",
      "metadata": {
        "id": "oq2b7n1QpIka"
      },
      "source": [
        "***"
      ]
    },
    {
      "cell_type": "code",
      "execution_count": null,
      "id": "e91f87ed-e25c-4f96-9f92-b642e8c0b4fa",
      "metadata": {
        "id": "e91f87ed-e25c-4f96-9f92-b642e8c0b4fa"
      },
      "outputs": [],
      "source": [
        "# выводы по детальному анализу вакансий"
      ]
    },
    {
      "attachments": {},
      "cell_type": "markdown",
      "id": "ae9ccbc9",
      "metadata": {},
      "source": [
        "- Количество вакансий больше в крупных городах и уменьшается к региональным.\n",
        "Наибольшее число вакансий представлено в Москве ~11%. На 12 городов (из 769) приходится 48% всех вакансий (23616 из 49197).\n",
        "- В половине вакансий указана предлагаемая зарплата (24073 из 49197).\n",
        "- Около 70% вакансий предполагают полный рабочий день с полной занятостью (35367). Около 15% вакансий предполагают полный рабочий день удаленно (7802). И 15% другие виды занятости.\n",
        "- В более ~70% вакансий требуется небольшой опыт работы или без опыта. Чаще всего ищут сотрудников с опытом работы от 1 до 3 лет (26152), далее идет группа вакансий с поиском сотрудников без опыта работы (7197). ~28% вакансий со средним опытом работы от 3 до 6 лет (14511). И лишь 2% вакансий с большим опытом. Реже всего ищут сотрудников с опытом работы более 6 лет (1337). Позволяет сделать вывод, что опытные работники не стремятся менять работу.\n",
        "- Для вакансий без опыта работы предлагаемая зарплатная вилка, в среднем, составляет от 34699 до 56990, для вакансий с опытом работы более 6 лет вилка, в среднем, составляет от 150156 до 197819. Видна прямая зависимость между опытом работы и предлагаемой зарплатной вилкой."
      ]
    },
    {
      "cell_type": "markdown",
      "id": "7ea20ab6-04a7-40a0-adec-443a0e5a42c3",
      "metadata": {
        "id": "7ea20ab6-04a7-40a0-adec-443a0e5a42c3"
      },
      "source": [
        "# Юнит 5. Анализ работодателей"
      ]
    },
    {
      "cell_type": "markdown",
      "id": "968aed80-74ef-4ffb-b5bf-c65b84e9caea",
      "metadata": {
        "id": "968aed80-74ef-4ffb-b5bf-c65b84e9caea"
      },
      "source": [
        "1. Напишите запрос, который позволит узнать, какие работодатели находятся на первом и пятом месте по количеству вакансий."
      ]
    },
    {
      "cell_type": "code",
      "execution_count": 14,
      "id": "f2d62796-d400-4ec1-a675-88112739a50e",
      "metadata": {
        "id": "f2d62796-d400-4ec1-a675-88112739a50e"
      },
      "outputs": [],
      "source": [
        "# текст запроса\n",
        "query_5_1 = f'''(SELECT\n",
        "               e.name,\n",
        "               COUNT(v.employer_id)\n",
        "               FROM public.employers e\n",
        "               JOIN public.vacancies v ON e.id = v.employer_id\n",
        "               GROUP BY 1\n",
        "               ORDER BY 2 DESC\n",
        "               LIMIT 1)\n",
        "               UNION ALL\n",
        "               (SELECT\n",
        "               e.name,\n",
        "               COUNT(v.employer_id)\n",
        "               FROM public.employers e\n",
        "               JOIN public.vacancies v ON e.id = v.employer_id\n",
        "               GROUP BY 1\n",
        "               ORDER BY 2 DESC\n",
        "               OFFSET 4\n",
        "               LIMIT 1)\n",
        "            '''"
      ]
    },
    {
      "cell_type": "code",
      "execution_count": 15,
      "id": "64tOMkAxqkQk",
      "metadata": {
        "id": "64tOMkAxqkQk"
      },
      "outputs": [
        {
          "data": {
            "text/html": [
              "<div>\n",
              "<style scoped>\n",
              "    .dataframe tbody tr th:only-of-type {\n",
              "        vertical-align: middle;\n",
              "    }\n",
              "\n",
              "    .dataframe tbody tr th {\n",
              "        vertical-align: top;\n",
              "    }\n",
              "\n",
              "    .dataframe thead th {\n",
              "        text-align: right;\n",
              "    }\n",
              "</style>\n",
              "<table border=\"1\" class=\"dataframe\">\n",
              "  <thead>\n",
              "    <tr style=\"text-align: right;\">\n",
              "      <th></th>\n",
              "      <th>name</th>\n",
              "      <th>count</th>\n",
              "    </tr>\n",
              "  </thead>\n",
              "  <tbody>\n",
              "    <tr>\n",
              "      <th>0</th>\n",
              "      <td>Яндекс</td>\n",
              "      <td>1933</td>\n",
              "    </tr>\n",
              "    <tr>\n",
              "      <th>1</th>\n",
              "      <td>Газпром нефть</td>\n",
              "      <td>331</td>\n",
              "    </tr>\n",
              "  </tbody>\n",
              "</table>\n",
              "</div>"
            ],
            "text/plain": [
              "            name  count\n",
              "0         Яндекс   1933\n",
              "1  Газпром нефть    331"
            ]
          },
          "execution_count": 15,
          "metadata": {},
          "output_type": "execute_result"
        }
      ],
      "source": [
        "# результат запроса\n",
        "df = pd.read_sql_query(query_5_1, connection)\n",
        "df"
      ]
    },
    {
      "cell_type": "markdown",
      "id": "68377cfc-b378-43dc-ab7d-1195abf2c515",
      "metadata": {
        "id": "68377cfc-b378-43dc-ab7d-1195abf2c515"
      },
      "source": [
        "2. Напишите запрос, который для каждого региона выведет количество работодателей и вакансий в нём.\n",
        "Среди регионов, в которых нет вакансий, найдите тот, в котором наибольшее количество работодателей.\n"
      ]
    },
    {
      "cell_type": "code",
      "execution_count": 12,
      "id": "dd7df27a-e3e8-412e-a21a-5d389b71e891",
      "metadata": {
        "id": "dd7df27a-e3e8-412e-a21a-5d389b71e891"
      },
      "outputs": [],
      "source": [
        "# текст запроса\n",
        "query_5_2 = f'''SELECT\n",
        "               a.name,\n",
        "               COUNT(e.id) employers_count,\n",
        "               COUNT(v.id) vacancies_count\n",
        "               FROM public.areas a\n",
        "               LEFT JOIN public.employers e ON e.area = a.id\n",
        "               LEFT JOIN public.vacancies v ON v.area_id = a.id\n",
        "               WHERE v.id IS NULL\n",
        "               GROUP BY 1\n",
        "               ORDER BY 2 DESC\n",
        "               LIMIT 1\n",
        "            '''"
      ]
    },
    {
      "cell_type": "code",
      "execution_count": 13,
      "id": "x1ikWbydrbf6",
      "metadata": {
        "id": "x1ikWbydrbf6"
      },
      "outputs": [
        {
          "data": {
            "text/html": [
              "<div>\n",
              "<style scoped>\n",
              "    .dataframe tbody tr th:only-of-type {\n",
              "        vertical-align: middle;\n",
              "    }\n",
              "\n",
              "    .dataframe tbody tr th {\n",
              "        vertical-align: top;\n",
              "    }\n",
              "\n",
              "    .dataframe thead th {\n",
              "        text-align: right;\n",
              "    }\n",
              "</style>\n",
              "<table border=\"1\" class=\"dataframe\">\n",
              "  <thead>\n",
              "    <tr style=\"text-align: right;\">\n",
              "      <th></th>\n",
              "      <th>name</th>\n",
              "      <th>employers_count</th>\n",
              "      <th>vacancies_count</th>\n",
              "    </tr>\n",
              "  </thead>\n",
              "  <tbody>\n",
              "    <tr>\n",
              "      <th>0</th>\n",
              "      <td>Россия</td>\n",
              "      <td>410</td>\n",
              "      <td>0</td>\n",
              "    </tr>\n",
              "  </tbody>\n",
              "</table>\n",
              "</div>"
            ],
            "text/plain": [
              "     name  employers_count  vacancies_count\n",
              "0  Россия              410                0"
            ]
          },
          "execution_count": 13,
          "metadata": {},
          "output_type": "execute_result"
        }
      ],
      "source": [
        "# результат запроса\n",
        "df = pd.read_sql_query(query_5_2, connection)\n",
        "df"
      ]
    },
    {
      "cell_type": "markdown",
      "id": "f2fe0acb-ab1a-4e15-9326-2560e22d73c1",
      "metadata": {
        "id": "f2fe0acb-ab1a-4e15-9326-2560e22d73c1"
      },
      "source": [
        "3. Для каждого работодателя посчитайте количество регионов, в которых он публикует свои вакансии. Отсортируйте результат по убыванию количества.\n"
      ]
    },
    {
      "cell_type": "code",
      "execution_count": 30,
      "id": "6271f8ad-bd2e-4196-ae4a-5b39c4c1010e",
      "metadata": {
        "id": "6271f8ad-bd2e-4196-ae4a-5b39c4c1010e"
      },
      "outputs": [],
      "source": [
        "# текст запроса\n",
        "query_5_3 = f'''SELECT\n",
        "               e.name,\n",
        "               COUNT(DISTINCT v.area_id)\n",
        "               FROM public.employers e\n",
        "               LEFT JOIN public.vacancies v ON v.employer_id = e.id\n",
        "               GROUP BY e.id\n",
        "               ORDER BY 2 DESC\n",
        "            '''"
      ]
    },
    {
      "cell_type": "code",
      "execution_count": 31,
      "id": "1EIvX3HasH4F",
      "metadata": {
        "id": "1EIvX3HasH4F"
      },
      "outputs": [
        {
          "data": {
            "text/html": [
              "<div>\n",
              "<style scoped>\n",
              "    .dataframe tbody tr th:only-of-type {\n",
              "        vertical-align: middle;\n",
              "    }\n",
              "\n",
              "    .dataframe tbody tr th {\n",
              "        vertical-align: top;\n",
              "    }\n",
              "\n",
              "    .dataframe thead th {\n",
              "        text-align: right;\n",
              "    }\n",
              "</style>\n",
              "<table border=\"1\" class=\"dataframe\">\n",
              "  <thead>\n",
              "    <tr style=\"text-align: right;\">\n",
              "      <th></th>\n",
              "      <th>name</th>\n",
              "      <th>count</th>\n",
              "    </tr>\n",
              "  </thead>\n",
              "  <tbody>\n",
              "    <tr>\n",
              "      <th>0</th>\n",
              "      <td>Яндекс</td>\n",
              "      <td>181</td>\n",
              "    </tr>\n",
              "    <tr>\n",
              "      <th>1</th>\n",
              "      <td>Ростелеком</td>\n",
              "      <td>152</td>\n",
              "    </tr>\n",
              "    <tr>\n",
              "      <th>2</th>\n",
              "      <td>Спецремонт</td>\n",
              "      <td>116</td>\n",
              "    </tr>\n",
              "    <tr>\n",
              "      <th>3</th>\n",
              "      <td>Поляков Денис Иванович</td>\n",
              "      <td>88</td>\n",
              "    </tr>\n",
              "    <tr>\n",
              "      <th>4</th>\n",
              "      <td>ООО ЕФИН</td>\n",
              "      <td>71</td>\n",
              "    </tr>\n",
              "    <tr>\n",
              "      <th>...</th>\n",
              "      <td>...</td>\n",
              "      <td>...</td>\n",
              "    </tr>\n",
              "    <tr>\n",
              "      <th>23496</th>\n",
              "      <td>Но Смокинг</td>\n",
              "      <td>0</td>\n",
              "    </tr>\n",
              "    <tr>\n",
              "      <th>23497</th>\n",
              "      <td>МАСТЕРСКАЯ CREED</td>\n",
              "      <td>0</td>\n",
              "    </tr>\n",
              "    <tr>\n",
              "      <th>23498</th>\n",
              "      <td>Dzing Finance</td>\n",
              "      <td>0</td>\n",
              "    </tr>\n",
              "    <tr>\n",
              "      <th>23499</th>\n",
              "      <td>КОРС</td>\n",
              "      <td>0</td>\n",
              "    </tr>\n",
              "    <tr>\n",
              "      <th>23500</th>\n",
              "      <td>Наука-Связь</td>\n",
              "      <td>0</td>\n",
              "    </tr>\n",
              "  </tbody>\n",
              "</table>\n",
              "<p>23501 rows × 2 columns</p>\n",
              "</div>"
            ],
            "text/plain": [
              "                         name  count\n",
              "0                      Яндекс    181\n",
              "1                  Ростелеком    152\n",
              "2                  Спецремонт    116\n",
              "3      Поляков Денис Иванович     88\n",
              "4                   ООО ЕФИН      71\n",
              "...                       ...    ...\n",
              "23496              Но Смокинг      0\n",
              "23497        МАСТЕРСКАЯ CREED      0\n",
              "23498           Dzing Finance      0\n",
              "23499                    КОРС      0\n",
              "23500             Наука-Связь      0\n",
              "\n",
              "[23501 rows x 2 columns]"
            ]
          },
          "execution_count": 31,
          "metadata": {},
          "output_type": "execute_result"
        }
      ],
      "source": [
        "# результат запроса\n",
        "df = pd.read_sql_query(query_5_3, connection)\n",
        "df"
      ]
    },
    {
      "cell_type": "markdown",
      "id": "eab2206d-d95b-468b-8e5f-34381abf0ce7",
      "metadata": {
        "id": "eab2206d-d95b-468b-8e5f-34381abf0ce7"
      },
      "source": [
        "4. Напишите запрос для подсчёта количества работодателей, у которых не указана сфера деятельности. "
      ]
    },
    {
      "cell_type": "code",
      "execution_count": 32,
      "id": "80defb23-bfb1-4a18-8be6-bf36aa7165d5",
      "metadata": {
        "id": "80defb23-bfb1-4a18-8be6-bf36aa7165d5"
      },
      "outputs": [],
      "source": [
        "# текст запроса\n",
        "query_5_4 = f'''SELECT\n",
        "               COUNT(e.id)\n",
        "               FROM public.employers e\n",
        "               LEFT JOIN public.employers_industries ei ON ei.employer_id = e.id\n",
        "               WHERE ei.industry_id IS NULL\n",
        "            '''"
      ]
    },
    {
      "cell_type": "code",
      "execution_count": 33,
      "id": "Dp_yCx6ysQSu",
      "metadata": {
        "id": "Dp_yCx6ysQSu"
      },
      "outputs": [
        {
          "data": {
            "text/html": [
              "<div>\n",
              "<style scoped>\n",
              "    .dataframe tbody tr th:only-of-type {\n",
              "        vertical-align: middle;\n",
              "    }\n",
              "\n",
              "    .dataframe tbody tr th {\n",
              "        vertical-align: top;\n",
              "    }\n",
              "\n",
              "    .dataframe thead th {\n",
              "        text-align: right;\n",
              "    }\n",
              "</style>\n",
              "<table border=\"1\" class=\"dataframe\">\n",
              "  <thead>\n",
              "    <tr style=\"text-align: right;\">\n",
              "      <th></th>\n",
              "      <th>count</th>\n",
              "    </tr>\n",
              "  </thead>\n",
              "  <tbody>\n",
              "    <tr>\n",
              "      <th>0</th>\n",
              "      <td>8419</td>\n",
              "    </tr>\n",
              "  </tbody>\n",
              "</table>\n",
              "</div>"
            ],
            "text/plain": [
              "   count\n",
              "0   8419"
            ]
          },
          "execution_count": 33,
          "metadata": {},
          "output_type": "execute_result"
        }
      ],
      "source": [
        "# результат запроса\n",
        "df = pd.read_sql_query(query_5_4, connection)\n",
        "df"
      ]
    },
    {
      "cell_type": "markdown",
      "id": "0112af31-f6b0-4e3b-82ab-71296e752e5e",
      "metadata": {
        "id": "0112af31-f6b0-4e3b-82ab-71296e752e5e"
      },
      "source": [
        "5. Напишите запрос, чтобы узнать название компании, находящейся на третьем месте в алфавитном списке (по названию) компаний, у которых указано четыре сферы деятельности. "
      ]
    },
    {
      "cell_type": "code",
      "execution_count": 51,
      "id": "973b0cfc-a972-470a-8b4a-68744ef220c4",
      "metadata": {
        "id": "973b0cfc-a972-470a-8b4a-68744ef220c4"
      },
      "outputs": [],
      "source": [
        "# текст запроса\n",
        "query_5_5 = f'''SELECT\n",
        "               e.name,\n",
        "               COUNT(ei.industry_id)\n",
        "               FROM public.employers e\n",
        "               JOIN public.employers_industries ei ON ei.employer_id = e.id\n",
        "               GROUP BY 1\n",
        "               HAVING COUNT(ei.industry_id) = 4\n",
        "               ORDER BY 1\n",
        "               OFFSET 2\n",
        "               LIMIT 1\n",
        "            '''"
      ]
    },
    {
      "cell_type": "code",
      "execution_count": 52,
      "id": "xsPtpp8EsaED",
      "metadata": {
        "id": "xsPtpp8EsaED"
      },
      "outputs": [
        {
          "data": {
            "text/html": [
              "<div>\n",
              "<style scoped>\n",
              "    .dataframe tbody tr th:only-of-type {\n",
              "        vertical-align: middle;\n",
              "    }\n",
              "\n",
              "    .dataframe tbody tr th {\n",
              "        vertical-align: top;\n",
              "    }\n",
              "\n",
              "    .dataframe thead th {\n",
              "        text-align: right;\n",
              "    }\n",
              "</style>\n",
              "<table border=\"1\" class=\"dataframe\">\n",
              "  <thead>\n",
              "    <tr style=\"text-align: right;\">\n",
              "      <th></th>\n",
              "      <th>name</th>\n",
              "      <th>count</th>\n",
              "    </tr>\n",
              "  </thead>\n",
              "  <tbody>\n",
              "    <tr>\n",
              "      <th>0</th>\n",
              "      <td>2ГИС</td>\n",
              "      <td>4</td>\n",
              "    </tr>\n",
              "  </tbody>\n",
              "</table>\n",
              "</div>"
            ],
            "text/plain": [
              "   name  count\n",
              "0  2ГИС      4"
            ]
          },
          "execution_count": 52,
          "metadata": {},
          "output_type": "execute_result"
        }
      ],
      "source": [
        "# результат запроса\n",
        "df = pd.read_sql_query(query_5_5, connection)\n",
        "df"
      ]
    },
    {
      "cell_type": "markdown",
      "id": "3bfcfdaf-755d-4d2b-8ed8-326201dc07ab",
      "metadata": {
        "id": "3bfcfdaf-755d-4d2b-8ed8-326201dc07ab"
      },
      "source": [
        "6. С помощью запроса выясните, у какого количества работодателей в качестве сферы деятельности указана Разработка программного обеспечения.\n"
      ]
    },
    {
      "cell_type": "code",
      "execution_count": 57,
      "id": "ad3f270f-2991-47eb-929b-e8f88a55b0d1",
      "metadata": {
        "id": "ad3f270f-2991-47eb-929b-e8f88a55b0d1"
      },
      "outputs": [],
      "source": [
        "# текст запроса\n",
        "query_5_6 = f'''SELECT\n",
        "               COUNT(e.id)\n",
        "               FROM public.employers e\n",
        "               JOIN public.employers_industries ei ON ei.employer_id = e.id\n",
        "               JOIN public.industries i ON i.id = ei.industry_id\n",
        "               WHERE i.name = 'Разработка программного обеспечения'\n",
        "            '''"
      ]
    },
    {
      "cell_type": "code",
      "execution_count": 58,
      "id": "H72qxWM0shPR",
      "metadata": {
        "id": "H72qxWM0shPR"
      },
      "outputs": [
        {
          "data": {
            "text/html": [
              "<div>\n",
              "<style scoped>\n",
              "    .dataframe tbody tr th:only-of-type {\n",
              "        vertical-align: middle;\n",
              "    }\n",
              "\n",
              "    .dataframe tbody tr th {\n",
              "        vertical-align: top;\n",
              "    }\n",
              "\n",
              "    .dataframe thead th {\n",
              "        text-align: right;\n",
              "    }\n",
              "</style>\n",
              "<table border=\"1\" class=\"dataframe\">\n",
              "  <thead>\n",
              "    <tr style=\"text-align: right;\">\n",
              "      <th></th>\n",
              "      <th>count</th>\n",
              "    </tr>\n",
              "  </thead>\n",
              "  <tbody>\n",
              "    <tr>\n",
              "      <th>0</th>\n",
              "      <td>3553</td>\n",
              "    </tr>\n",
              "  </tbody>\n",
              "</table>\n",
              "</div>"
            ],
            "text/plain": [
              "   count\n",
              "0   3553"
            ]
          },
          "execution_count": 58,
          "metadata": {},
          "output_type": "execute_result"
        }
      ],
      "source": [
        "# результат запроса\n",
        "df = pd.read_sql_query(query_5_6, connection)\n",
        "df"
      ]
    },
    {
      "cell_type": "markdown",
      "id": "7b02bb86-0546-40fb-94a4-242f050a5c57",
      "metadata": {
        "id": "7b02bb86-0546-40fb-94a4-242f050a5c57"
      },
      "source": [
        "7. Для компании «Яндекс» выведите список регионов-миллионников, в которых представлены вакансии компании, вместе с количеством вакансий в этих регионах. Также добавьте строку Total с общим количеством вакансий компании. Результат отсортируйте по возрастанию количества.\n",
        "\n",
        "Список городов-милионников надо взять [отсюда](https://ru.wikipedia.org/wiki/%D0%93%D0%BE%D1%80%D0%BE%D0%B4%D0%B0-%D0%BC%D0%B8%D0%BB%D0%BB%D0%B8%D0%BE%D0%BD%D0%B5%D1%80%D1%8B_%D0%A0%D0%BE%D1%81%D1%81%D0%B8%D0%B8). \n",
        "\n",
        "Если возникнут трудности с этим задание посмотрите материалы модуля  PYTHON-17. Как получать данные из веб-источников и API. "
      ]
    },
    {
      "cell_type": "code",
      "execution_count": 10,
      "id": "ZdfrL6gIs1Pn",
      "metadata": {
        "id": "ZdfrL6gIs1Pn"
      },
      "outputs": [
        {
          "data": {
            "text/plain": [
              "('Москва',\n",
              " 'Санкт-Петербург',\n",
              " 'Новосибирск',\n",
              " 'Екатеринбург',\n",
              " 'Казань',\n",
              " 'Нижний Новгород',\n",
              " 'Красноярск',\n",
              " 'Челябинск',\n",
              " 'Самара',\n",
              " 'Уфа',\n",
              " 'Ростов-на-Дону',\n",
              " 'Омск',\n",
              " 'Краснодар',\n",
              " 'Воронеж',\n",
              " 'Пермь',\n",
              " 'Волгоград')"
            ]
          },
          "execution_count": 10,
          "metadata": {},
          "output_type": "execute_result"
        }
      ],
      "source": [
        "# код для получения списка городов-миллионников\n",
        "# выгрузка списка городов-миллионников со страницы в Википедия\n",
        "url = 'https://ru.wikipedia.org/wiki/%D0%93%D0%BE%D1%80%D0%BE%D0%B4%D0%B0-%D0%BC%D0%B8%D0%BB%D0%BB%D0%B8%D0%BE%D0%BD%D0%B5%D1%80%D1%8B_%D0%A0%D0%BE%D1%81%D1%81%D0%B8%D0%B8' # Определяем адрес страницы\n",
        "cities = []\n",
        "table_cities = pd.read_html(url)[1]\n",
        "for i in table_cities['Город']:\n",
        "    if '[' in i: # Проверка на наличие сносок\n",
        "        i = i[:-3]\n",
        "    cities.append(i)\n",
        "cities = tuple(cities)\n",
        "cities"
      ]
    },
    {
      "cell_type": "code",
      "execution_count": 9,
      "id": "c2e9ac9d",
      "metadata": {},
      "outputs": [
        {
          "data": {
            "text/plain": [
              "('Москва',\n",
              " 'Санкт-Петербург',\n",
              " 'Новосибирск',\n",
              " 'Екатеринбург',\n",
              " 'Казань',\n",
              " 'Нижний Новгород',\n",
              " 'Красноярск',\n",
              " 'Челябинск',\n",
              " 'Самара',\n",
              " 'Уфа',\n",
              " 'Ростов-на-Дону',\n",
              " 'Омск',\n",
              " 'Краснодар',\n",
              " 'Воронеж',\n",
              " 'Пермь',\n",
              " 'Волгоград')"
            ]
          },
          "execution_count": 9,
          "metadata": {},
          "output_type": "execute_result"
        }
      ],
      "source": [
        "# код для получения списка городов-миллионников\n",
        "import requests \n",
        "from bs4 import BeautifulSoup\n",
        "\n",
        "response = requests.get('https://ru.wikipedia.org/wiki/%D0%93%D0%BE%D1%80%D0%BE%D0%B4%D0%B0-%D0%BC%D0%B8%D0%BB%D0%BB%D0%B8%D0%BE%D0%BD%D0%B5%D1%80%D1%8B_%D0%A0%D0%BE%D1%81%D1%81%D0%B8%D0%B8')\n",
        "page = BeautifulSoup(response.text, 'html.parser')\n",
        "# Выбираем из документа вторую таблицу и в таблице выбираем первый уровень тега \"a\" внутри ячейки \"td\"\n",
        "tda = page.select('div table:nth-of-type(2) tbody tr td > a')\n",
        "cities = [t.text for t in tda]\n",
        "cities = tuple(cities)\n",
        "cities"
      ]
    },
    {
      "cell_type": "code",
      "execution_count": 11,
      "id": "5a0e32a4-e68a-4365-8a39-2fe24c542c36",
      "metadata": {
        "id": "5a0e32a4-e68a-4365-8a39-2fe24c542c36"
      },
      "outputs": [],
      "source": [
        "# текст запроса\n",
        "query_5_7 = f'''(SELECT\n",
        "               a.name,\n",
        "               COUNT(v.id)\n",
        "               FROM public.vacancies v \n",
        "               JOIN public.employers e ON e.id = v.employer_id\n",
        "               JOIN public.areas a ON a.id = v.area_id \n",
        "               WHERE e.name = 'Яндекс' AND a.name IN {cities}\n",
        "               GROUP BY 1)\n",
        "               \n",
        "               UNION ALL\n",
        "               \n",
        "               SELECT\n",
        "               'Total',\n",
        "               COUNT(v.id)\n",
        "               FROM public.vacancies v \n",
        "               JOIN public.employers e ON e.id = v.employer_id\n",
        "               JOIN public.areas a ON a.id = v.area_id \n",
        "               WHERE e.name = 'Яндекс' AND a.name IN {cities}\n",
        "               \n",
        "               ORDER BY 2\n",
        "            '''"
      ]
    },
    {
      "cell_type": "code",
      "execution_count": 13,
      "id": "ttPhiO1rsvPq",
      "metadata": {
        "id": "ttPhiO1rsvPq"
      },
      "outputs": [
        {
          "data": {
            "text/html": [
              "<div>\n",
              "<style scoped>\n",
              "    .dataframe tbody tr th:only-of-type {\n",
              "        vertical-align: middle;\n",
              "    }\n",
              "\n",
              "    .dataframe tbody tr th {\n",
              "        vertical-align: top;\n",
              "    }\n",
              "\n",
              "    .dataframe thead th {\n",
              "        text-align: right;\n",
              "    }\n",
              "</style>\n",
              "<table border=\"1\" class=\"dataframe\">\n",
              "  <thead>\n",
              "    <tr style=\"text-align: right;\">\n",
              "      <th></th>\n",
              "      <th>name</th>\n",
              "      <th>count</th>\n",
              "    </tr>\n",
              "  </thead>\n",
              "  <tbody>\n",
              "    <tr>\n",
              "      <th>0</th>\n",
              "      <td>Омск</td>\n",
              "      <td>21</td>\n",
              "    </tr>\n",
              "    <tr>\n",
              "      <th>1</th>\n",
              "      <td>Челябинск</td>\n",
              "      <td>22</td>\n",
              "    </tr>\n",
              "    <tr>\n",
              "      <th>2</th>\n",
              "      <td>Красноярск</td>\n",
              "      <td>23</td>\n",
              "    </tr>\n",
              "    <tr>\n",
              "      <th>3</th>\n",
              "      <td>Волгоград</td>\n",
              "      <td>24</td>\n",
              "    </tr>\n",
              "    <tr>\n",
              "      <th>4</th>\n",
              "      <td>Пермь</td>\n",
              "      <td>25</td>\n",
              "    </tr>\n",
              "    <tr>\n",
              "      <th>5</th>\n",
              "      <td>Казань</td>\n",
              "      <td>25</td>\n",
              "    </tr>\n",
              "    <tr>\n",
              "      <th>6</th>\n",
              "      <td>Ростов-на-Дону</td>\n",
              "      <td>25</td>\n",
              "    </tr>\n",
              "    <tr>\n",
              "      <th>7</th>\n",
              "      <td>Уфа</td>\n",
              "      <td>26</td>\n",
              "    </tr>\n",
              "    <tr>\n",
              "      <th>8</th>\n",
              "      <td>Самара</td>\n",
              "      <td>26</td>\n",
              "    </tr>\n",
              "    <tr>\n",
              "      <th>9</th>\n",
              "      <td>Краснодар</td>\n",
              "      <td>30</td>\n",
              "    </tr>\n",
              "    <tr>\n",
              "      <th>10</th>\n",
              "      <td>Воронеж</td>\n",
              "      <td>32</td>\n",
              "    </tr>\n",
              "    <tr>\n",
              "      <th>11</th>\n",
              "      <td>Новосибирск</td>\n",
              "      <td>35</td>\n",
              "    </tr>\n",
              "    <tr>\n",
              "      <th>12</th>\n",
              "      <td>Нижний Новгород</td>\n",
              "      <td>36</td>\n",
              "    </tr>\n",
              "    <tr>\n",
              "      <th>13</th>\n",
              "      <td>Екатеринбург</td>\n",
              "      <td>39</td>\n",
              "    </tr>\n",
              "    <tr>\n",
              "      <th>14</th>\n",
              "      <td>Санкт-Петербург</td>\n",
              "      <td>42</td>\n",
              "    </tr>\n",
              "    <tr>\n",
              "      <th>15</th>\n",
              "      <td>Москва</td>\n",
              "      <td>54</td>\n",
              "    </tr>\n",
              "    <tr>\n",
              "      <th>16</th>\n",
              "      <td>Total</td>\n",
              "      <td>485</td>\n",
              "    </tr>\n",
              "  </tbody>\n",
              "</table>\n",
              "</div>"
            ],
            "text/plain": [
              "               name  count\n",
              "0              Омск     21\n",
              "1         Челябинск     22\n",
              "2        Красноярск     23\n",
              "3         Волгоград     24\n",
              "4             Пермь     25\n",
              "5            Казань     25\n",
              "6    Ростов-на-Дону     25\n",
              "7               Уфа     26\n",
              "8            Самара     26\n",
              "9         Краснодар     30\n",
              "10          Воронеж     32\n",
              "11      Новосибирск     35\n",
              "12  Нижний Новгород     36\n",
              "13     Екатеринбург     39\n",
              "14  Санкт-Петербург     42\n",
              "15           Москва     54\n",
              "16            Total    485"
            ]
          },
          "execution_count": 13,
          "metadata": {},
          "output_type": "execute_result"
        }
      ],
      "source": [
        "# результат запроса\n",
        "df = pd.read_sql_query(query_5_7, connection)\n",
        "df"
      ]
    },
    {
      "cell_type": "markdown",
      "id": "04966e40-3bc3-4dc8-9ba2-e80580ce3abc",
      "metadata": {
        "id": "04966e40-3bc3-4dc8-9ba2-e80580ce3abc"
      },
      "source": [
        "***"
      ]
    },
    {
      "cell_type": "code",
      "execution_count": null,
      "id": "aGGyER-yt4SR",
      "metadata": {
        "id": "aGGyER-yt4SR"
      },
      "outputs": [],
      "source": [
        "# выводы по анализу работодателей"
      ]
    },
    {
      "attachments": {},
      "cell_type": "markdown",
      "id": "a5d63643",
      "metadata": {},
      "source": [
        "Ожидаемо, что топ ко количеству вакансий на ресурсе HH занимают крупные связанные с ИТ-сектором напрямую компании.\n",
        "- Крупнейшими городами по числу вакансий и работодателей являются крупнейшие города России и ближайших стран СНГ: Москва, Санкт-Петербург, Минск, Новосибирск, Алматы.\n",
        "- Приблизительно у 36% работодателей (8419 из 23501) не указана сфера деятельности, но есть компании, которые связаны не менее чем с четырьмя сферами одновременно. Среди основных сфер деятельности указаны - \"Разработка программного обеспечения\" (3553 компании или около 15%) и \"Системная интеграция\", что в целом соответствует общей специфике рассматриваемой выборки.\n",
        "- Крупным компаниям необходимы сотрудники в различных регионах. Работодатели по количеству регионов в которых представлены вакансии: Яндекс (181 регион), Ростелеком (152 региона), Спецремонт (116 регионов).\n",
        "- Компания \"Яндекс\" является самой крупной по количеству вакансий (1933), затем идут: Ростелеком (491), Тинькофф (444), Сбер (428), Газпром нефть (331).\n",
        "- Наибольшее количество работодателей находится в Москве, тут же открыто наибольшее количество вакансий. \n",
        "- Доля вакансий компании \"Яндекс\" в общей выборке невелика - около 4%, при этом достаточно равномерно распределена по городам (в т.ч. по городам-миллионникам - 485 вакансий или около 25%)."
      ]
    },
    {
      "cell_type": "markdown",
      "id": "b1ef156a-efcb-49ce-bb23-90763e7f35b2",
      "metadata": {
        "id": "b1ef156a-efcb-49ce-bb23-90763e7f35b2",
        "tags": []
      },
      "source": [
        "# Юнит 6. Предметный анализ"
      ]
    },
    {
      "cell_type": "markdown",
      "id": "b9cd50a0-992d-4988-8463-2b2b1c4629b4",
      "metadata": {
        "id": "b9cd50a0-992d-4988-8463-2b2b1c4629b4"
      },
      "source": [
        "1. Сколько вакансий имеет отношение к данным?\n",
        "\n",
        "Считаем, что вакансия имеет отношение к данным, если в её названии содержатся слова 'data' или 'данн'.\n",
        "\n",
        "*Подсказка: Обратите внимание, что названия вакансий могут быть написаны в любом регистре.* \n"
      ]
    },
    {
      "cell_type": "code",
      "execution_count": 8,
      "id": "54ab0e50-c0f1-47cc-a54b-bc5c8bc363f9",
      "metadata": {
        "id": "54ab0e50-c0f1-47cc-a54b-bc5c8bc363f9"
      },
      "outputs": [],
      "source": [
        "# текст запроса\n",
        "query_6_1 = f'''SELECT\n",
        "               COUNT(id)\n",
        "               FROM public.vacancies\n",
        "               WHERE LOWER(name) LIKE '%%data%%' \n",
        "               OR LOWER(name) LIKE '%%данн%%'\n",
        "            '''"
      ]
    },
    {
      "cell_type": "code",
      "execution_count": 9,
      "id": "9F1meAqsuUjd",
      "metadata": {
        "id": "9F1meAqsuUjd"
      },
      "outputs": [
        {
          "data": {
            "text/html": [
              "<div>\n",
              "<style scoped>\n",
              "    .dataframe tbody tr th:only-of-type {\n",
              "        vertical-align: middle;\n",
              "    }\n",
              "\n",
              "    .dataframe tbody tr th {\n",
              "        vertical-align: top;\n",
              "    }\n",
              "\n",
              "    .dataframe thead th {\n",
              "        text-align: right;\n",
              "    }\n",
              "</style>\n",
              "<table border=\"1\" class=\"dataframe\">\n",
              "  <thead>\n",
              "    <tr style=\"text-align: right;\">\n",
              "      <th></th>\n",
              "      <th>count</th>\n",
              "    </tr>\n",
              "  </thead>\n",
              "  <tbody>\n",
              "    <tr>\n",
              "      <th>0</th>\n",
              "      <td>1771</td>\n",
              "    </tr>\n",
              "  </tbody>\n",
              "</table>\n",
              "</div>"
            ],
            "text/plain": [
              "   count\n",
              "0   1771"
            ]
          },
          "execution_count": 9,
          "metadata": {},
          "output_type": "execute_result"
        }
      ],
      "source": [
        "# результат запроса\n",
        "df = pd.read_sql_query(query_6_1, connection)\n",
        "df"
      ]
    },
    {
      "cell_type": "markdown",
      "id": "4dea20cb-a36b-474a-a0b9-e08e8e3857a5",
      "metadata": {
        "id": "4dea20cb-a36b-474a-a0b9-e08e8e3857a5"
      },
      "source": [
        "2. Сколько есть подходящих вакансий для начинающего дата-сайентиста? \n",
        "Будем считать вакансиями для дата-сайентистов такие, в названии которых есть хотя бы одно из следующих сочетаний:\n",
        "* 'data scientist'\n",
        "* 'data science'\n",
        "* 'исследователь данных'\n",
        "* 'ML' (здесь не нужно брать вакансии по HTML)\n",
        "* 'machine learning'\n",
        "* 'машинн%обучен%'\n",
        "\n",
        "** В следующих заданиях мы продолжим работать с вакансиями по этому условию.*\n",
        "\n",
        "Считаем вакансиями для специалистов уровня Junior следующие:\n",
        "* в названии есть слово 'junior' *или*\n",
        "* требуемый опыт — Нет опыта *или*\n",
        "* тип трудоустройства — Стажировка.\n",
        " "
      ]
    },
    {
      "cell_type": "code",
      "execution_count": 70,
      "id": "9c61b3c0-bb66-46c9-ae1e-81d3f5752b4a",
      "metadata": {
        "id": "9c61b3c0-bb66-46c9-ae1e-81d3f5752b4a"
      },
      "outputs": [],
      "source": [
        "# текст запроса\n",
        "query_6_2 = f'''SELECT\n",
        "               COUNT(id)\n",
        "               FROM public.vacancies\n",
        "               WHERE (LOWER(name) LIKE '%%data scientist%%' \n",
        "               OR LOWER(name) LIKE '%%data science%%'\n",
        "               OR LOWER(name) LIKE '%%исследователь данных%%'\n",
        "               OR (LOWER(name) LIKE '%%ml%%' AND LOWER(name) NOT LIKE '%%html%%')\n",
        "               OR LOWER(name) LIKE '%%machine learning%%'\n",
        "               OR LOWER(name) LIKE '%%машинн%%обучен%%')\n",
        "               AND (name ILIKE '%%junior%%'\n",
        "               OR experience = 'Нет опыта'\n",
        "               OR employment = 'Стажировка')\n",
        "            '''"
      ]
    },
    {
      "cell_type": "code",
      "execution_count": 73,
      "id": "ZNM-LLYuu1dj",
      "metadata": {
        "id": "ZNM-LLYuu1dj"
      },
      "outputs": [
        {
          "data": {
            "text/html": [
              "<div>\n",
              "<style scoped>\n",
              "    .dataframe tbody tr th:only-of-type {\n",
              "        vertical-align: middle;\n",
              "    }\n",
              "\n",
              "    .dataframe tbody tr th {\n",
              "        vertical-align: top;\n",
              "    }\n",
              "\n",
              "    .dataframe thead th {\n",
              "        text-align: right;\n",
              "    }\n",
              "</style>\n",
              "<table border=\"1\" class=\"dataframe\">\n",
              "  <thead>\n",
              "    <tr style=\"text-align: right;\">\n",
              "      <th></th>\n",
              "      <th>count</th>\n",
              "    </tr>\n",
              "  </thead>\n",
              "  <tbody>\n",
              "    <tr>\n",
              "      <th>0</th>\n",
              "      <td>51</td>\n",
              "    </tr>\n",
              "  </tbody>\n",
              "</table>\n",
              "</div>"
            ],
            "text/plain": [
              "   count\n",
              "0     51"
            ]
          },
          "execution_count": 73,
          "metadata": {},
          "output_type": "execute_result"
        }
      ],
      "source": [
        "# результат запроса\n",
        "df = pd.read_sql_query(query_6_2, connection)\n",
        "df"
      ]
    },
    {
      "cell_type": "markdown",
      "id": "eedceb80-c5ca-480e-b27a-278dfb8b4438",
      "metadata": {
        "id": "eedceb80-c5ca-480e-b27a-278dfb8b4438"
      },
      "source": [
        "3. Сколько есть вакансий для DS, в которых в качестве ключевого навыка указан SQL или postgres?\n",
        "\n",
        "** Критерии для отнесения вакансии к DS указаны в предыдущем задании.*"
      ]
    },
    {
      "cell_type": "code",
      "execution_count": 75,
      "id": "69621713-0cc5-4f1b-a1d7-bb144fa6148c",
      "metadata": {
        "id": "69621713-0cc5-4f1b-a1d7-bb144fa6148c"
      },
      "outputs": [],
      "source": [
        "# текст запроса\n",
        "query_6_3 = f'''SELECT\n",
        "               COUNT(id)\n",
        "               FROM public.vacancies\n",
        "               WHERE (LOWER(name) LIKE '%%data scientist%%' \n",
        "               OR LOWER(name) LIKE '%%data science%%'\n",
        "               OR LOWER(name) LIKE '%%исследователь данных%%'\n",
        "               OR (name LIKE '%%ML%%' AND name NOT LIKE '%%HTML%%')\n",
        "               OR LOWER(name) LIKE '%%machine learning%%'\n",
        "               OR LOWER(name) LIKE '%%машинн%%обучен%%')\n",
        "               AND (key_skills ILIKE '%%sql%%'\n",
        "               OR key_skills ILIKE '%%postgres%%')\n",
        "            '''"
      ]
    },
    {
      "cell_type": "code",
      "execution_count": 76,
      "id": "alA8WEAAvGdf",
      "metadata": {
        "id": "alA8WEAAvGdf"
      },
      "outputs": [
        {
          "data": {
            "text/html": [
              "<div>\n",
              "<style scoped>\n",
              "    .dataframe tbody tr th:only-of-type {\n",
              "        vertical-align: middle;\n",
              "    }\n",
              "\n",
              "    .dataframe tbody tr th {\n",
              "        vertical-align: top;\n",
              "    }\n",
              "\n",
              "    .dataframe thead th {\n",
              "        text-align: right;\n",
              "    }\n",
              "</style>\n",
              "<table border=\"1\" class=\"dataframe\">\n",
              "  <thead>\n",
              "    <tr style=\"text-align: right;\">\n",
              "      <th></th>\n",
              "      <th>count</th>\n",
              "    </tr>\n",
              "  </thead>\n",
              "  <tbody>\n",
              "    <tr>\n",
              "      <th>0</th>\n",
              "      <td>201</td>\n",
              "    </tr>\n",
              "  </tbody>\n",
              "</table>\n",
              "</div>"
            ],
            "text/plain": [
              "   count\n",
              "0    201"
            ]
          },
          "execution_count": 76,
          "metadata": {},
          "output_type": "execute_result"
        }
      ],
      "source": [
        "# результат запроса\n",
        "df = pd.read_sql_query(query_6_3, connection)\n",
        "df"
      ]
    },
    {
      "attachments": {},
      "cell_type": "markdown",
      "id": "1be1e9c6-37cf-4a5f-bfeb-04cab799dc80",
      "metadata": {
        "id": "1be1e9c6-37cf-4a5f-bfeb-04cab799dc80"
      },
      "source": [
        "4. Проверьте, насколько популярен Python в требованиях работодателей к DS. Для этого вычислите количество вакансий, в которых в качестве ключевого навыка указан Python.\n",
        "\n",
        "** Это можно сделать помощью запроса, аналогичного предыдущему.*"
      ]
    },
    {
      "cell_type": "code",
      "execution_count": 77,
      "id": "0036a355-9ccf-4564-8b01-73d8194297e7",
      "metadata": {
        "id": "0036a355-9ccf-4564-8b01-73d8194297e7"
      },
      "outputs": [],
      "source": [
        "# текст запроса\n",
        "query_6_4 = f'''SELECT\n",
        "               COUNT(id)\n",
        "               FROM public.vacancies\n",
        "               WHERE (LOWER(name) LIKE '%%data scientist%%' \n",
        "               OR LOWER(name) LIKE '%%data science%%'\n",
        "               OR LOWER(name) LIKE '%%исследователь данных%%'\n",
        "               OR (name LIKE '%%ML%%' AND name NOT LIKE '%%HTML%%')\n",
        "               OR LOWER(name) LIKE '%%machine learning%%'\n",
        "               OR LOWER(name) LIKE '%%машинн%%обучен%%')\n",
        "               AND key_skills ILIKE '%%Python%%'\n",
        "            '''"
      ]
    },
    {
      "cell_type": "code",
      "execution_count": 78,
      "id": "1i-5WyucvQ6v",
      "metadata": {
        "id": "1i-5WyucvQ6v"
      },
      "outputs": [
        {
          "data": {
            "text/html": [
              "<div>\n",
              "<style scoped>\n",
              "    .dataframe tbody tr th:only-of-type {\n",
              "        vertical-align: middle;\n",
              "    }\n",
              "\n",
              "    .dataframe tbody tr th {\n",
              "        vertical-align: top;\n",
              "    }\n",
              "\n",
              "    .dataframe thead th {\n",
              "        text-align: right;\n",
              "    }\n",
              "</style>\n",
              "<table border=\"1\" class=\"dataframe\">\n",
              "  <thead>\n",
              "    <tr style=\"text-align: right;\">\n",
              "      <th></th>\n",
              "      <th>count</th>\n",
              "    </tr>\n",
              "  </thead>\n",
              "  <tbody>\n",
              "    <tr>\n",
              "      <th>0</th>\n",
              "      <td>351</td>\n",
              "    </tr>\n",
              "  </tbody>\n",
              "</table>\n",
              "</div>"
            ],
            "text/plain": [
              "   count\n",
              "0    351"
            ]
          },
          "execution_count": 78,
          "metadata": {},
          "output_type": "execute_result"
        }
      ],
      "source": [
        "# результат запроса\n",
        "df = pd.read_sql_query(query_6_4, connection)\n",
        "df"
      ]
    },
    {
      "cell_type": "markdown",
      "id": "ec3c8db7-fa21-4a41-a994-1af63742a642",
      "metadata": {
        "id": "ec3c8db7-fa21-4a41-a994-1af63742a642"
      },
      "source": [
        "5. Сколько ключевых навыков в среднем указывают в вакансиях для DS?\n",
        "Ответ округлите до двух знаков после точки-разделителя."
      ]
    },
    {
      "cell_type": "code",
      "execution_count": 90,
      "id": "949132bc-d5b6-4611-8218-0b9a504d74f4",
      "metadata": {
        "id": "949132bc-d5b6-4611-8218-0b9a504d74f4"
      },
      "outputs": [],
      "source": [
        "# Ключевые навыки разделены символом табуляции, можно вырезать этот символ и посчитать разницу \n",
        "# между исходной длиной строки и строкой с вырезанными символами табуляции, вычислив количество в строке \n",
        "# разделителей (символов табуляции). Количество ключевых навыков будет равно количеству разделителей (табуляций) + 1.\n",
        "\n",
        "# текст запроса\n",
        "query_6_5 = f'''SELECT\n",
        "               ROUND(AVG(LENGTH(key_skills) - LENGTH(REPLACE(key_skills, '\\t', '')) + 1), 2)\n",
        "               FROM public.vacancies\n",
        "               WHERE LOWER(name) LIKE '%%data scientist%%' \n",
        "               OR LOWER(name) LIKE '%%data science%%'\n",
        "               OR LOWER(name) LIKE '%%исследователь данных%%'\n",
        "               OR (name LIKE '%%ML%%' AND name NOT LIKE '%%HTML%%')\n",
        "               OR LOWER(name) LIKE '%%machine learning%%'\n",
        "               OR LOWER(name) LIKE '%%машинн%%обучен%%'\n",
        "            '''"
      ]
    },
    {
      "cell_type": "code",
      "execution_count": 95,
      "id": "a3V24Tvmviqk",
      "metadata": {
        "id": "a3V24Tvmviqk"
      },
      "outputs": [
        {
          "data": {
            "text/html": [
              "<div>\n",
              "<style scoped>\n",
              "    .dataframe tbody tr th:only-of-type {\n",
              "        vertical-align: middle;\n",
              "    }\n",
              "\n",
              "    .dataframe tbody tr th {\n",
              "        vertical-align: top;\n",
              "    }\n",
              "\n",
              "    .dataframe thead th {\n",
              "        text-align: right;\n",
              "    }\n",
              "</style>\n",
              "<table border=\"1\" class=\"dataframe\">\n",
              "  <thead>\n",
              "    <tr style=\"text-align: right;\">\n",
              "      <th></th>\n",
              "      <th>round</th>\n",
              "    </tr>\n",
              "  </thead>\n",
              "  <tbody>\n",
              "    <tr>\n",
              "      <th>0</th>\n",
              "      <td>6.41</td>\n",
              "    </tr>\n",
              "  </tbody>\n",
              "</table>\n",
              "</div>"
            ],
            "text/plain": [
              "   round\n",
              "0   6.41"
            ]
          },
          "execution_count": 95,
          "metadata": {},
          "output_type": "execute_result"
        }
      ],
      "source": [
        "# результат запроса\n",
        "df = pd.read_sql_query(query_6_5, connection)\n",
        "df"
      ]
    },
    {
      "cell_type": "markdown",
      "id": "1041c17a-ca8f-4543-a0ca-32778914fb00",
      "metadata": {
        "id": "1041c17a-ca8f-4543-a0ca-32778914fb00"
      },
      "source": [
        "6. Напишите запрос, позволяющий вычислить, какую зарплату для DS в **среднем** указывают для каждого типа требуемого опыта (уникальное значение из поля *experience*). \n",
        "\n",
        "При решении задачи примите во внимание следующее:\n",
        "1. Рассматриваем только вакансии, у которых заполнено хотя бы одно из двух полей с зарплатой.\n",
        "2. Если заполнены оба поля с зарплатой, то считаем зарплату по каждой вакансии как сумму двух полей, делённую на 2. Если заполнено только одно из полей, то его и считаем зарплатой по вакансии.\n",
        "3. Если в расчётах участвует null, в результате он тоже даст null (посмотрите, что возвращает запрос select 1 + null). Чтобы избежать этой ситуацию, мы воспользуемся функцией [coalesce](https://postgrespro.ru/docs/postgresql/9.5/functions-conditional#functions-coalesce-nvl-ifnull), которая заменит null на значение, которое мы передадим. Например, посмотрите, что возвращает запрос `select 1 + coalesce(null, 0)`\n",
        "\n",
        "Выясните, на какую зарплату в среднем может рассчитывать дата-сайентист с опытом работы от 3 до 6 лет. Результат округлите до целого числа. "
      ]
    },
    {
      "cell_type": "code",
      "execution_count": 13,
      "id": "6a743d39-5204-48d3-8271-b9f88e68d40e",
      "metadata": {
        "id": "6a743d39-5204-48d3-8271-b9f88e68d40e"
      },
      "outputs": [],
      "source": [
        "# текст запроса\n",
        "query_6_6 = f'''SELECT\n",
        "               experience,\n",
        "               ROUND(AVG(COALESCE((salary_from + salary_to) / 2, salary_from, salary_to)), 0)\n",
        "               FROM public.vacancies\n",
        "               WHERE LOWER(name) LIKE '%%data scientist%%' \n",
        "               OR LOWER(name) LIKE '%%data science%%'\n",
        "               OR LOWER(name) LIKE '%%исследователь данных%%'\n",
        "               OR (name LIKE '%%ML%%' AND name NOT LIKE '%%HTML%%')\n",
        "               OR LOWER(name) LIKE '%%machine learning%%'\n",
        "               OR LOWER(name) LIKE '%%машинн%%обучен%%'\n",
        "               GROUP BY 1\n",
        "            '''"
      ]
    },
    {
      "cell_type": "code",
      "execution_count": 17,
      "id": "aRIJ0mZEwU1_",
      "metadata": {
        "id": "aRIJ0mZEwU1_"
      },
      "outputs": [
        {
          "data": {
            "text/html": [
              "<div>\n",
              "<style scoped>\n",
              "    .dataframe tbody tr th:only-of-type {\n",
              "        vertical-align: middle;\n",
              "    }\n",
              "\n",
              "    .dataframe tbody tr th {\n",
              "        vertical-align: top;\n",
              "    }\n",
              "\n",
              "    .dataframe thead th {\n",
              "        text-align: right;\n",
              "    }\n",
              "</style>\n",
              "<table border=\"1\" class=\"dataframe\">\n",
              "  <thead>\n",
              "    <tr style=\"text-align: right;\">\n",
              "      <th></th>\n",
              "      <th>experience</th>\n",
              "      <th>round</th>\n",
              "    </tr>\n",
              "  </thead>\n",
              "  <tbody>\n",
              "    <tr>\n",
              "      <th>0</th>\n",
              "      <td>Более 6 лет</td>\n",
              "      <td>NaN</td>\n",
              "    </tr>\n",
              "    <tr>\n",
              "      <th>1</th>\n",
              "      <td>Нет опыта</td>\n",
              "      <td>74643.0</td>\n",
              "    </tr>\n",
              "    <tr>\n",
              "      <th>2</th>\n",
              "      <td>От 1 года до 3 лет</td>\n",
              "      <td>139675.0</td>\n",
              "    </tr>\n",
              "    <tr>\n",
              "      <th>3</th>\n",
              "      <td>От 3 до 6 лет</td>\n",
              "      <td>243115.0</td>\n",
              "    </tr>\n",
              "  </tbody>\n",
              "</table>\n",
              "</div>"
            ],
            "text/plain": [
              "           experience     round\n",
              "0         Более 6 лет       NaN\n",
              "1           Нет опыта   74643.0\n",
              "2  От 1 года до 3 лет  139675.0\n",
              "3       От 3 до 6 лет  243115.0"
            ]
          },
          "execution_count": 17,
          "metadata": {},
          "output_type": "execute_result"
        }
      ],
      "source": [
        "# результат запроса\n",
        "df = pd.read_sql_query(query_6_6, connection)\n",
        "df"
      ]
    },
    {
      "cell_type": "markdown",
      "id": "6a7892b4-4113-4746-adce-18aa2844f18e",
      "metadata": {
        "id": "6a7892b4-4113-4746-adce-18aa2844f18e"
      },
      "source": [
        "***"
      ]
    },
    {
      "cell_type": "code",
      "execution_count": null,
      "id": "UjLWUptVwY1o",
      "metadata": {
        "id": "UjLWUptVwY1o"
      },
      "outputs": [],
      "source": [
        "# выводы по предметному анализу"
      ]
    },
    {
      "attachments": {},
      "cell_type": "markdown",
      "id": "cfc2c84c",
      "metadata": {},
      "source": [
        "Из общей выборки 1771 вакансия (~3.5%) имеет отношение к данным, а непосредственно к DS - 480 (< 1%).\n",
        "\n",
        "Для дата-сайентиста доступно от всех вакансий, связанных с данными:\n",
        "- 51 вакансия (2,9%) для начинающих; \n",
        "- 201 вакансия (11%) со знанием SQL или Postgres; \n",
        "- 351 вакансия (20%) с владением Python.\n",
        "\n",
        "Знание Python требуется чаще, чем знания SQL или Postgres. Также среди самых популярных навыков:\n",
        "- Machine Learning; \n",
        "- Git; \n",
        "- Математическая статистика; \n",
        "- Pandas; \n",
        "- английский язык. \n",
        "\n",
        "Среднее количество требуемых ключевых навыков от специалистов по работе с данными для работодателей в вакансиях составляет 6,4 и незначительно отличается от количества в среднем по базе данных (6,37). \n",
        "\n",
        "На начальном этапе своей карьеры специалист DS может рассчитывать на среднюю зарплату около 75 тыс. рублей, чуть выше минимальной предлагаемой в среднем по рынку (74643 против 71065). \n",
        "\n",
        "С минимальным опытом, после года работы, показатель может увеличиться почти в два раза - до 140 тыс. рублей, значительно выше максимальной предлагаемой в среднем по рынку (139675 против 110537), тогда как после трех лет опыта зарплата может приблизиться к 250 тыс. рублей. \n",
        "\n",
        "Для специалистов с опытом более 6 лет зарплата вообще не указана. Вероятно, последнее объясняется слишком большой возможной разницей в вилке."
      ]
    },
    {
      "cell_type": "markdown",
      "id": "c0ED6fh7wiBT",
      "metadata": {
        "id": "c0ED6fh7wiBT"
      },
      "source": [
        "# Общий вывод по проекту"
      ]
    },
    {
      "cell_type": "code",
      "execution_count": null,
      "id": "h9B3BL-wwj18",
      "metadata": {
        "id": "h9B3BL-wwj18"
      },
      "outputs": [],
      "source": [
        "# подведем итог исследования, обобщите выводы\n",
        "# здесь можно (это будет плюсом) провести дополнительные исследования данных, сделать прогнозы, продумать варианты продолжения исследования"
      ]
    },
    {
      "cell_type": "code",
      "execution_count": 24,
      "id": "ca6c62a4",
      "metadata": {},
      "outputs": [],
      "source": [
        "# 1.Зависимость средней зарплаты от типа рабочего графика для DS специалиста.\n",
        "# текст запроса\n",
        "query_7_1 = f'''SELECT\n",
        "               schedule,\n",
        "               ROUND(AVG(COALESCE((salary_from + salary_to) / 2, salary_from, salary_to)), 0)::text salary_avg,\n",
        "               COUNT(id)\n",
        "               FROM public.vacancies\n",
        "               WHERE (LOWER(name) LIKE '%%data scientist%%' \n",
        "               OR LOWER(name) LIKE '%%data science%%'\n",
        "               OR LOWER(name) LIKE '%%исследователь данных%%'\n",
        "               OR (name LIKE '%%ML%%' AND name NOT LIKE '%%HTML%%')\n",
        "               OR LOWER(name) LIKE '%%machine learning%%'\n",
        "               OR LOWER(name) LIKE '%%машинн%%обучен%%')\n",
        "               AND (salary_from IS NOT NULL OR salary_to IS NOT NULL)\n",
        "               GROUP BY 1\n",
        "               UNION ALL\n",
        "               SELECT\n",
        "               'Средняя зарплата по всем вакансиям DS',\n",
        "               ROUND(AVG(COALESCE((salary_from + salary_to) / 2, salary_from, salary_to)), 0)::text,\n",
        "               COUNT(id)\n",
        "               FROM public.vacancies\n",
        "               WHERE (LOWER(name) LIKE '%%data scientist%%' \n",
        "               OR LOWER(name) LIKE '%%data science%%'\n",
        "               OR LOWER(name) LIKE '%%исследователь данных%%'\n",
        "               OR (name LIKE '%%ML%%' AND name NOT LIKE '%%HTML%%')\n",
        "               OR LOWER(name) LIKE '%%machine learning%%'\n",
        "               OR LOWER(name) LIKE '%%машинн%%обучен%%')\n",
        "               AND (salary_from IS NOT NULL OR salary_to IS NOT NULL)\n",
        "               UNION ALL\n",
        "               SELECT\n",
        "               'Общее количество вакансий DS',\n",
        "               ' ',\n",
        "               COUNT(id)\n",
        "               FROM public.vacancies\n",
        "               WHERE LOWER(name) LIKE '%%data scientist%%' \n",
        "               OR LOWER(name) LIKE '%%data science%%'\n",
        "               OR LOWER(name) LIKE '%%исследователь данных%%'\n",
        "               OR (name LIKE '%%ML%%' AND name NOT LIKE '%%HTML%%')\n",
        "               OR LOWER(name) LIKE '%%machine learning%%'\n",
        "               OR LOWER(name) LIKE '%%машинн%%обучен%%'\n",
        "               ORDER BY 3\n",
        "            '''"
      ]
    },
    {
      "cell_type": "code",
      "execution_count": 25,
      "id": "606e1e06",
      "metadata": {},
      "outputs": [
        {
          "data": {
            "text/html": [
              "<div>\n",
              "<style scoped>\n",
              "    .dataframe tbody tr th:only-of-type {\n",
              "        vertical-align: middle;\n",
              "    }\n",
              "\n",
              "    .dataframe tbody tr th {\n",
              "        vertical-align: top;\n",
              "    }\n",
              "\n",
              "    .dataframe thead th {\n",
              "        text-align: right;\n",
              "    }\n",
              "</style>\n",
              "<table border=\"1\" class=\"dataframe\">\n",
              "  <thead>\n",
              "    <tr style=\"text-align: right;\">\n",
              "      <th></th>\n",
              "      <th>schedule</th>\n",
              "      <th>salary_avg</th>\n",
              "      <th>count</th>\n",
              "    </tr>\n",
              "  </thead>\n",
              "  <tbody>\n",
              "    <tr>\n",
              "      <th>0</th>\n",
              "      <td>Гибкий график</td>\n",
              "      <td>140500</td>\n",
              "      <td>4</td>\n",
              "    </tr>\n",
              "    <tr>\n",
              "      <th>1</th>\n",
              "      <td>Удаленная работа</td>\n",
              "      <td>190043</td>\n",
              "      <td>17</td>\n",
              "    </tr>\n",
              "    <tr>\n",
              "      <th>2</th>\n",
              "      <td>Полный день</td>\n",
              "      <td>175726</td>\n",
              "      <td>41</td>\n",
              "    </tr>\n",
              "    <tr>\n",
              "      <th>3</th>\n",
              "      <td>Средняя зарплата по всем вакансиям DS</td>\n",
              "      <td>177379</td>\n",
              "      <td>62</td>\n",
              "    </tr>\n",
              "    <tr>\n",
              "      <th>4</th>\n",
              "      <td>Общее количество вакансий DS</td>\n",
              "      <td></td>\n",
              "      <td>480</td>\n",
              "    </tr>\n",
              "  </tbody>\n",
              "</table>\n",
              "</div>"
            ],
            "text/plain": [
              "                                schedule salary_avg  count\n",
              "0                          Гибкий график     140500      4\n",
              "1                       Удаленная работа     190043     17\n",
              "2                            Полный день     175726     41\n",
              "3  Средняя зарплата по всем вакансиям DS     177379     62\n",
              "4           Общее количество вакансий DS               480"
            ]
          },
          "execution_count": 25,
          "metadata": {},
          "output_type": "execute_result"
        }
      ],
      "source": [
        "# результат запроса\n",
        "df = pd.read_sql_query(query_7_1, connection)\n",
        "df"
      ]
    },
    {
      "attachments": {},
      "cell_type": "markdown",
      "id": "5aa33e86",
      "metadata": {},
      "source": [
        "Средняя зарплата при удаленной работе DS специалиста выше, чем в условиях полной занятости. Данный тип рабочего дня встречается реже классического полного дня, доля вакансий с графиком удаленной работы составляет 24% (117 вакансий) от общей выборки вакансий для DS. Как следствие, переезд в другой город для DS специалиста чаще всего не оправдан, т.к. возможно найти более высокооплачиваемую вакансию, предполагающую удаленный график работы. Также стоит обратить внимание, что для большей доли вакансий DS специалиста нет указаний по зарплате ни в каком виде, что в дальнейшем может значительно исказить качество модели по части параметров и факторов, привязанных к уровню заработной платы."
      ]
    },
    {
      "cell_type": "code",
      "execution_count": 26,
      "id": "d539d393",
      "metadata": {},
      "outputs": [],
      "source": [
        "# 2.География вакансий DS, не имеющих график удаленной работы. Наиболее популярные регионы по количеству вакансий.\n",
        "# текст запроса\n",
        "query_7_2 = f'''SELECT\n",
        "               a.name,\n",
        "               COUNT(v.id)\n",
        "               FROM public.vacancies v\n",
        "               JOIN public.areas a ON a.id = v.area_id\n",
        "               WHERE (LOWER(v.name) LIKE '%%data scientist%%' \n",
        "               OR LOWER(v.name) LIKE '%%data science%%'\n",
        "               OR LOWER(v.name) LIKE '%%исследователь данных%%'\n",
        "               OR (v.name LIKE '%%ML%%' AND v.name NOT LIKE '%%HTML%%')\n",
        "               OR LOWER(v.name) LIKE '%%machine learning%%'\n",
        "               OR LOWER(v.name) LIKE '%%машинн%%обучен%%')\n",
        "               AND v.schedule <> 'Удаленная работа'\n",
        "               GROUP BY 1\n",
        "               ORDER BY 2 DESC\n",
        "               LIMIT 10\n",
        "            '''"
      ]
    },
    {
      "cell_type": "code",
      "execution_count": 27,
      "id": "8a27b6c6",
      "metadata": {},
      "outputs": [
        {
          "data": {
            "text/html": [
              "<div>\n",
              "<style scoped>\n",
              "    .dataframe tbody tr th:only-of-type {\n",
              "        vertical-align: middle;\n",
              "    }\n",
              "\n",
              "    .dataframe tbody tr th {\n",
              "        vertical-align: top;\n",
              "    }\n",
              "\n",
              "    .dataframe thead th {\n",
              "        text-align: right;\n",
              "    }\n",
              "</style>\n",
              "<table border=\"1\" class=\"dataframe\">\n",
              "  <thead>\n",
              "    <tr style=\"text-align: right;\">\n",
              "      <th></th>\n",
              "      <th>name</th>\n",
              "      <th>count</th>\n",
              "    </tr>\n",
              "  </thead>\n",
              "  <tbody>\n",
              "    <tr>\n",
              "      <th>0</th>\n",
              "      <td>Москва</td>\n",
              "      <td>172</td>\n",
              "    </tr>\n",
              "    <tr>\n",
              "      <th>1</th>\n",
              "      <td>Санкт-Петербург</td>\n",
              "      <td>53</td>\n",
              "    </tr>\n",
              "    <tr>\n",
              "      <th>2</th>\n",
              "      <td>Новосибирск</td>\n",
              "      <td>18</td>\n",
              "    </tr>\n",
              "    <tr>\n",
              "      <th>3</th>\n",
              "      <td>Нижний Новгород</td>\n",
              "      <td>17</td>\n",
              "    </tr>\n",
              "    <tr>\n",
              "      <th>4</th>\n",
              "      <td>Алматы</td>\n",
              "      <td>12</td>\n",
              "    </tr>\n",
              "    <tr>\n",
              "      <th>5</th>\n",
              "      <td>Казань</td>\n",
              "      <td>11</td>\n",
              "    </tr>\n",
              "    <tr>\n",
              "      <th>6</th>\n",
              "      <td>Минск</td>\n",
              "      <td>8</td>\n",
              "    </tr>\n",
              "    <tr>\n",
              "      <th>7</th>\n",
              "      <td>Томск</td>\n",
              "      <td>7</td>\n",
              "    </tr>\n",
              "    <tr>\n",
              "      <th>8</th>\n",
              "      <td>Ростов-на-Дону</td>\n",
              "      <td>6</td>\n",
              "    </tr>\n",
              "    <tr>\n",
              "      <th>9</th>\n",
              "      <td>Нур-Султан</td>\n",
              "      <td>5</td>\n",
              "    </tr>\n",
              "  </tbody>\n",
              "</table>\n",
              "</div>"
            ],
            "text/plain": [
              "              name  count\n",
              "0           Москва    172\n",
              "1  Санкт-Петербург     53\n",
              "2      Новосибирск     18\n",
              "3  Нижний Новгород     17\n",
              "4           Алматы     12\n",
              "5           Казань     11\n",
              "6            Минск      8\n",
              "7            Томск      7\n",
              "8   Ростов-на-Дону      6\n",
              "9       Нур-Султан      5"
            ]
          },
          "execution_count": 27,
          "metadata": {},
          "output_type": "execute_result"
        }
      ],
      "source": [
        "# результат запроса\n",
        "df = pd.read_sql_query(query_7_2, connection)\n",
        "df"
      ]
    },
    {
      "attachments": {},
      "cell_type": "markdown",
      "id": "511e69a2",
      "metadata": {},
      "source": [
        "География вакансий DS специалиста, не имеющих график удаленной работы и подразумевающих присутствие на рабочем месте еще более сильно сконцентрирована в самых крупных городах, Москве и Санкт-Петербурге в сравнении со всей географией общей выборки. Учитывая, что стоимость жизни в данных городах заметно выше остальных городов общей выборки, и делая предположение, на основании предыдущего запроса query_7_1, о более высокой заработной плате при графике удаленной работы, также полагаем востребованность этого типа графика работы гораздо больше."
      ]
    },
    {
      "cell_type": "code",
      "execution_count": 36,
      "id": "a16ba619",
      "metadata": {},
      "outputs": [],
      "source": [
        "# 3.Наиболее популярные работодатели по количеству вакансий DS специалиста со всеми типами возможных графиков работы.\n",
        "# текст запроса\n",
        "query_7_3 = f'''SELECT\n",
        "               e.name,\n",
        "               COUNT(v.id)\n",
        "               FROM public.vacancies v\n",
        "               JOIN public.employers e ON e.id = v.employer_id\n",
        "               WHERE LOWER(v.name) LIKE '%%data scientist%%' \n",
        "               OR LOWER(v.name) LIKE '%%data science%%'\n",
        "               OR LOWER(v.name) LIKE '%%исследователь данных%%'\n",
        "               OR (v.name LIKE '%%ML%%' AND v.name NOT LIKE '%%HTML%%')\n",
        "               OR LOWER(v.name) LIKE '%%machine learning%%'\n",
        "               OR LOWER(v.name) LIKE '%%машинн%%обучен%%'\n",
        "               GROUP BY 1\n",
        "               ORDER BY 2 DESC\n",
        "               LIMIT 10\n",
        "            '''"
      ]
    },
    {
      "cell_type": "code",
      "execution_count": 38,
      "id": "060c15d2",
      "metadata": {},
      "outputs": [
        {
          "data": {
            "text/html": [
              "<div>\n",
              "<style scoped>\n",
              "    .dataframe tbody tr th:only-of-type {\n",
              "        vertical-align: middle;\n",
              "    }\n",
              "\n",
              "    .dataframe tbody tr th {\n",
              "        vertical-align: top;\n",
              "    }\n",
              "\n",
              "    .dataframe thead th {\n",
              "        text-align: right;\n",
              "    }\n",
              "</style>\n",
              "<table border=\"1\" class=\"dataframe\">\n",
              "  <thead>\n",
              "    <tr style=\"text-align: right;\">\n",
              "      <th></th>\n",
              "      <th>name</th>\n",
              "      <th>count</th>\n",
              "    </tr>\n",
              "  </thead>\n",
              "  <tbody>\n",
              "    <tr>\n",
              "      <th>0</th>\n",
              "      <td>СБЕР</td>\n",
              "      <td>37</td>\n",
              "    </tr>\n",
              "    <tr>\n",
              "      <th>1</th>\n",
              "      <td>Bell Integrator</td>\n",
              "      <td>25</td>\n",
              "    </tr>\n",
              "    <tr>\n",
              "      <th>2</th>\n",
              "      <td>Банк ВТБ (ПАО)</td>\n",
              "      <td>18</td>\n",
              "    </tr>\n",
              "    <tr>\n",
              "      <th>3</th>\n",
              "      <td>VK</td>\n",
              "      <td>15</td>\n",
              "    </tr>\n",
              "    <tr>\n",
              "      <th>4</th>\n",
              "      <td>Positive Technologies</td>\n",
              "      <td>11</td>\n",
              "    </tr>\n",
              "    <tr>\n",
              "      <th>5</th>\n",
              "      <td>Яндекс</td>\n",
              "      <td>9</td>\n",
              "    </tr>\n",
              "    <tr>\n",
              "      <th>6</th>\n",
              "      <td>EvenBet Gaming</td>\n",
              "      <td>9</td>\n",
              "    </tr>\n",
              "    <tr>\n",
              "      <th>7</th>\n",
              "      <td>МегаФон</td>\n",
              "      <td>8</td>\n",
              "    </tr>\n",
              "    <tr>\n",
              "      <th>8</th>\n",
              "      <td>Andersen</td>\n",
              "      <td>7</td>\n",
              "    </tr>\n",
              "    <tr>\n",
              "      <th>9</th>\n",
              "      <td>Ozon</td>\n",
              "      <td>6</td>\n",
              "    </tr>\n",
              "  </tbody>\n",
              "</table>\n",
              "</div>"
            ],
            "text/plain": [
              "                    name  count\n",
              "0                   СБЕР     37\n",
              "1        Bell Integrator     25\n",
              "2         Банк ВТБ (ПАО)     18\n",
              "3                     VK     15\n",
              "4  Positive Technologies     11\n",
              "5                 Яндекс      9\n",
              "6         EvenBet Gaming      9\n",
              "7                МегаФон      8\n",
              "8               Andersen      7\n",
              "9                   Ozon      6"
            ]
          },
          "execution_count": 38,
          "metadata": {},
          "output_type": "execute_result"
        }
      ],
      "source": [
        "# результат запроса\n",
        "df = pd.read_sql_query(query_7_3, connection)\n",
        "df"
      ]
    },
    {
      "attachments": {},
      "cell_type": "markdown",
      "id": "ea3dacb9",
      "metadata": {},
      "source": [
        "Среди наиболее популярных работодателей по количеству вакансий DS специалиста со всеми типами возможных графиков работы выступают в основном крупнейшие российские ИТ и телекоммуникационные компании. Обращает на себя внимание тот факт, что крупнейший по количеству вакансий работодатель - компания \"Яндекс\", в общей выборке вакансий для DS занимает лишь 6 место. При этом в ТОП-3 входят два банка."
      ]
    },
    {
      "attachments": {},
      "cell_type": "markdown",
      "id": "5ade2506",
      "metadata": {},
      "source": [
        "## Общий вывод по проекту\n",
        "Исследование вакансий из HeadHunter позволило выявить крупнейших работодаталей и крупнейшие регионы по количеству вакансий связанных с it-сферой. Лидерами среди работодателей являются Яндекс, Тинькофф, Сбер и другие. Лидерами среди регионов являются Москва, Санкт-Петербург, Минск, Новосибирск, Алматы. Проведенный анализ позволил выявить среднии размеры предлагаемых заработных плат в зависимости от опыта кондидата, позволил оценить рынок и востребованность в специалистах дата-саентистов, очертить зарплатные ожидания дата-саентистов.\n",
        "\n",
        "**Общие выводы:**\n",
        "\n",
        "В рамках проекта мы рассмотрели выборку вакансий для IT-специалистов и набор сопутствующих баз данных для изучения и анализа этой информации с целью ее использования в будущем для создания модели машинного обучения, которая будет рекомендовать вакансии клиентам кадрового агентства, претендующим на позицию Data Scientist.\n",
        "\n",
        "В рассматриваемых базах содержится информация о 49 тыс. вакансиях и 23,5 тыс. компаниях. Как изначально и предполагалось, далеко не по всем из указанным компаниям есть актуальные вакансии. В основном вакансии географически привязаны к Москве и Санкт-Петербурге, что в целом соответствует общей деловой активностью российской экономики.\n",
        "\n",
        "Сразу бросается в глаза, тот факт, что более чем по половине вакансий отсутствует информация зарплате, что может негативно отразиться на качестве разрабатываемой модели, т.к. зарплатные ожидания один из основных факторов при принятии решения как для соискателя, так и для работодателя. При этом средняя нижняя граница равна 71 тыс. рублей, а средняя верхняя граница - 111 тыс. рублей.\n",
        "\n",
        "Работодатели преимущественно ищут сотрудников на полную занятость, но часто допускают удаленную работу (вторая по популярности опция). При этом в выборке 83% приходится на вакансии, допускающим опыт менее 3 лет либо вообще отсутствие опыта.\n",
        "\n",
        "Общая выборка практически не имеет какой-либо концентрации на работодателях. Доля крупнейшего работодателя - Яндекс - 4%, при этом география Яндекс гораздо более равномерна в сравнении с общей выборкой. Обращает на себя внимание отсутствие более чем у трети компаний информации о сфере деятельности. Среди наиболее распространенных - разработка программного обеспечения и системная интеграция, что в целом соответствует общей специфике рассматриваемой выборки.\n",
        "\n",
        "Учитывая тот факт, что предполагается разработка специализированной модели, необходимо более детально рассмотреть целевую выборку. Из общей выборки 1771 вакансия (или 3,6%) имеет отношение к данным. Это говорит о том, что выявленные закономерности для всей выборки не могут быть экстраполированы на эту подвыборку и необходим детальный анализ таких вакансий. Для дата-сайентистов начального уровня доступно 51 вакансия или 2,9% от всех вакансий, связанных с данными. Среди ключевых навыков для DS указаны знание Python, умение работать с SQL или postgres.\n",
        "\n",
        "Среди основных работодателей для дата-сайентистов выступают в основном крунейшие российские ИТ и телкоммуникационные компании. Обращает на себя тот факт, что крупнейший по количеству вакансий работодатель - Яндекс, в выборке вакансий для DS занимает лишь 6 место. При этом в ТОП-3 попали два банка. География подразумевающих посещение офиса вакансий для дата-сайентистов еще более сильно сконцентрирована на Москве и Санкт-Петербурге в сравнении с географией всей выборки.\n",
        "\n",
        "Для выборки вакансий для DS, даже более чем для общей выборки, выражен фактор отсутствия данных об информации о зарплате. Доля таких вакансий в подвыборке составляет 87% против 51% по всей выборке. Тем не менее, если предположить, что тенденции, выявленные в тех вакансиям, где информация о зарплате указана, релевантны для всей подвыборки DS, то можно сделать следующие вывод:\n",
        "\n",
        "- На начальном этапе своей карьеры дата-сайентист может рассчитывать на зарплату около 75 тыс. рублей, после года опыта показатель может увеличиться почти в два раза - до 140 тыс. рублей, тогда как после трех лет опыта зарплаты может приблизиться к 250 тыс. рублей. Это заметно выше аналогичных уровне для всей выборки - 40, 77 и 133 тыс. рублей соответственно.\n",
        "- Средняя зарплата при удаленной работе для дата-сайентистов выше, чем при полном дне. Хотя такой тип рабочего дня распространен меньше классического полного дня, для вакансий, предполагающих удаленную работу составляют 24% (117 вакансий) от выборки вакансий для DS. В результате переезд в другой город для дата-сайентистов чаще всего не имеет смысла, т.к. можно найти более высокооплачиваемую вакансию, предполагающую удаленную работу.\n",
        "- Принимая во внимание, что (a) стоимость жизни (living cost) в Москве и Санкт-Петербурге заметно выше других городов выборки и (b) зарплата при удаленной работе DS выше других вариантов графика работы, можно предположить повышенный спрос соискателей на удаленную работу."
      ]
    }
  ],
  "metadata": {
    "colab": {
      "collapsed_sections": [
        "8d62a9f3-f64e-4fe7-bdac-c4dffa16155e"
      ],
      "provenance": []
    },
    "kernelspec": {
      "display_name": "Python 3 (ipykernel)",
      "language": "python",
      "name": "python3"
    },
    "language_info": {
      "codemirror_mode": {
        "name": "ipython",
        "version": 3
      },
      "file_extension": ".py",
      "mimetype": "text/x-python",
      "name": "python",
      "nbconvert_exporter": "python",
      "pygments_lexer": "ipython3",
      "version": "-1.-1.-1"
    }
  },
  "nbformat": 4,
  "nbformat_minor": 5
}
