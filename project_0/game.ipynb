{
 "cells": [
  {
   "cell_type": "code",
   "execution_count": 3,
   "metadata": {},
   "outputs": [
    {
     "name": "stdout",
     "output_type": "stream",
     "text": [
      "Количество попыток: 2\n"
     ]
    }
   ],
   "source": [
    "import game_v2"
   ]
  },
  {
   "cell_type": "code",
   "execution_count": 4,
   "metadata": {},
   "outputs": [
    {
     "name": "stdout",
     "output_type": "stream",
     "text": [
      "Ваш алгоритм угадывает число в среднем за: 9 попыток\n"
     ]
    },
    {
     "data": {
      "text/plain": [
       "9"
      ]
     },
     "execution_count": 4,
     "metadata": {},
     "output_type": "execute_result"
    }
   ],
   "source": [
    "game_v2.score_game(game_v2.random_predict)"
   ]
  },
  {
   "attachments": {},
   "cell_type": "markdown",
   "metadata": {},
   "source": [
    "# Игра угадай число\n"
   ]
  },
  {
   "cell_type": "code",
   "execution_count": 6,
   "metadata": {},
   "outputs": [],
   "source": [
    "from game_v2 import score_game\n",
    "from game_v2 import random_predict"
   ]
  },
  {
   "attachments": {},
   "cell_type": "markdown",
   "metadata": {},
   "source": [
    "## Угадываем рандомно:"
   ]
  },
  {
   "cell_type": "code",
   "execution_count": 7,
   "metadata": {},
   "outputs": [
    {
     "name": "stdout",
     "output_type": "stream",
     "text": [
      "Ваш алгоритм угадывает число в среднем за: 9 попыток\n"
     ]
    },
    {
     "data": {
      "text/plain": [
       "9"
      ]
     },
     "execution_count": 7,
     "metadata": {},
     "output_type": "execute_result"
    }
   ],
   "source": [
    "score_game(random_predict) #вызов функции"
   ]
  },
  {
   "cell_type": "code",
   "execution_count": 13,
   "metadata": {},
   "outputs": [],
   "source": [
    "from game_v2 import score_game, random_predict"
   ]
  },
  {
   "cell_type": "code",
   "execution_count": 11,
   "metadata": {},
   "outputs": [
    {
     "name": "stdout",
     "output_type": "stream",
     "text": [
      "Ваш алгоритм угадывает число в среднем за: 9 попыток\n"
     ]
    },
    {
     "data": {
      "text/plain": [
       "9"
      ]
     },
     "execution_count": 11,
     "metadata": {},
     "output_type": "execute_result"
    }
   ],
   "source": [
    "score_game(random_predict) #вызов функции"
   ]
  },
  {
   "cell_type": "code",
   "execution_count": 14,
   "metadata": {},
   "outputs": [
    {
     "name": "stdout",
     "output_type": "stream",
     "text": [
      "Количество попыток: 2\n",
      "Ваш алгоритм угадывает число в среднем за: 9 попыток\n"
     ]
    }
   ],
   "source": [
    "import numpy as np\n",
    "\n",
    "def random_predict(number:int=1) -> int:\n",
    "    \"\"\"Рандомно угадываем число\n",
    "\n",
    "    Args:\n",
    "        number (int, optional): Загаданное число. Defaults to 1.\n",
    "\n",
    "    Returns:\n",
    "        int: Число попыток\n",
    "    \"\"\"\n",
    "\n",
    "    count = 0\n",
    "\n",
    "    while True:\n",
    "        count += 1\n",
    "        predict_number = np.random.randint(1, 101) # предполагаемое число от 1 до 100\n",
    "        if number == predict_number:\n",
    "            if count < 20:\n",
    "                break # выход из цикла, если меньше 20 попыток\n",
    "            else: \n",
    "                return random_predict() # запускаем функцию заново\n",
    "    return(count)\n",
    "\n",
    "print(f'Количество попыток: {random_predict()}')\n",
    "\n",
    "def score_game(random_predict) -> int:\n",
    "    \"\"\"За какое количество попыток в среднем из 1000 подходов угадывает наш алгоритм\n",
    "\n",
    "    Args:\n",
    "        random_predict ([type]): функция угадывания\n",
    "\n",
    "    Returns:\n",
    "        int: среднее количество попыток\n",
    "    \"\"\"\n",
    "\n",
    "    count_ls = [] # список для сохранения количества попыток\n",
    "    np.random.seed(1) # фиксируем сид для воспроизводимости\n",
    "    random_array = np.random.randint(1, 101, size=(1000)) # загадали список чисел\n",
    "\n",
    "    for number in random_array:\n",
    "        count_ls.append(random_predict(number))\n",
    "\n",
    "    score = int(np.mean(count_ls)) # находим среднее количество попыток\n",
    "\n",
    "    print(f'Ваш алгоритм угадывает число в среднем за: {score} попыток')\n",
    "    return(score)\n",
    "\n",
    "# RUN\n",
    "if __name__ == '__main__':\n",
    "    score_game(random_predict)"
   ]
  },
  {
   "attachments": {},
   "cell_type": "markdown",
   "metadata": {},
   "source": [
    "В обоих случаях буду рассматривать бинарный поиск числа и только начинку функции, без ее описания.\n",
    "Первую реализацию можно представить через вечный цикл:"
   ]
  },
  {
   "cell_type": "code",
   "execution_count": null,
   "metadata": {},
   "outputs": [],
   "source": [
    "count = 0    # считаем количество попыток угадать число\n",
    "left_border = 1    # левая граница поиска\n",
    "right_border = 100    # правая граница поиска\n",
    "\n",
    "while True:    # заходим в вечный цикл\n",
    "    count += 1    # увеличиваем количество попыток на единицу\n",
    "    predict_number = left_border + (right_border - left_border) // 2    # как предполагаемое число, берем середину нашего отрезка\n",
    "\n",
    "    if number > predict_number:    # проверяем что загаданное число больше нашего предположения\n",
    "        left_border = predict_number    # если больше, то левую границу сдвигаем и делаем ее равной нашему предполагаемому числу\n",
    "    elif number < predict_number:    # если первое условие не сработало, проверяем что число меньше нашего предположения\n",
    "        right_border = predict_number    # если условие верно, сдвигаем правую границу и делаем ее равной нашему предполагаемому числу\n",
    "    else:    # если оба условия оказались ложны, то значит числа равны и мы угадали число\n",
    "        break    # принудительно выходим из цикла\n",
    "    \n",
    "    if count > 50:    # это дополнительное условие, для того, чтобы не уйти в вечный цикл\n",
    "        break    # если количество попыток более 50 (это число можно определить самому, но желательно чтобы оно не влияло на результат опыта) принудительно выходим из цикла"
   ]
  },
  {
   "attachments": {},
   "cell_type": "markdown",
   "metadata": {},
   "source": [
    "Во втором случае, мы выносим условие в цикл:"
   ]
  },
  {
   "cell_type": "code",
   "execution_count": null,
   "metadata": {},
   "outputs": [],
   "source": [
    "count = 0    \n",
    "left_border = 1    \n",
    "right_border = 100\n",
    "\n",
    "while number != predict_number:\n",
    "    count += 1\n",
    "    predict_number = left_border + (right_border - left_border) // 2 \n",
    "   \n",
    "    if number > predict_number:    \n",
    "        left_border = predict_number\n",
    "    else: \n",
    "        right_border = predict_number \n",
    "   "
   ]
  },
  {
   "attachments": {},
   "cell_type": "markdown",
   "metadata": {},
   "source": [
    "лучше определение predict_number поставить уже после проверки на границы и их переопределение, иначе один раз пройдем в холостую. И при таком условии изначальный count = 1, так как первая проверка происходит сразу на входе в цикл. В условии мы просто переопределяем границы как это было изначально, а вот уже после условного оператора переопределяем predict_number как было в моем коде"
   ]
  },
  {
   "cell_type": "code",
   "execution_count": null,
   "metadata": {},
   "outputs": [],
   "source": [
    "count = 1\n",
    "left_border = 1\n",
    "right_border = 100\n",
    "\n",
    "while number != predict_number:\n",
    "    count += 1\n",
    "    if number > predict_number:\n",
    "        left_border = predict_number\n",
    "    else:\n",
    "        right_border = predict_number\n",
    "        \n",
    "    predict_number = left_border + (right_border - left_border) // 2"
   ]
  },
  {
   "cell_type": "code",
   "execution_count": null,
   "metadata": {},
   "outputs": [],
   "source": [
    "import numpy as np\n",
    "\n",
    "def number_prediction(number:int=1) -> int:\n",
    "    \"\"\"Угадываем число менее чем за 20 попыток\n",
    "\n",
    "    Args:\n",
    "        number (int, optional): Загаданное число. Defaults to 1.\n",
    "\n",
    "    Returns:\n",
    "        int: Число попыток\n",
    "    \"\"\"\n",
    "\n",
    "    count = 0\n",
    "    low = 1\n",
    "    high = 100\n",
    "    \n",
    "    while True:    # заходим в вечный цикл\n",
    "        count += 1    # увеличиваем количество попыток на единицу\n",
    "        predict_number = low + (high - low) // 2    # как предполагаемое число, берем середину нашего отрезка\n",
    "\n",
    "        if number > predict_number:    # проверяем что загаданное число больше нашего предположения\n",
    "            low = predict_number    # если больше, то левую границу сдвигаем и делаем ее равной нашему предполагаемому числу\n",
    "        elif number < predict_number:    # если первое условие не сработало, проверяем что число меньше нашего предположения\n",
    "            high = predict_number    # если условие верно, сдвигаем правую границу и делаем ее равной нашему предполагаемому числу\n",
    "        else:    # если оба условия оказались ложны, то значит числа равны и мы угадали число\n",
    "            break    # принудительно выходим из цикла\n",
    "    \n",
    "        if count > 20:    # это дополнительное условие, для того, чтобы не уйти в вечный цикл\n",
    "            break\n",
    "    return(count)\n",
    "\n",
    "print(f'Количество попыток: {number_prediction()}')\n",
    "\n",
    "def score_game(number_prediction) -> int:\n",
    "    \"\"\"За какое количество попыток в среднем из 1000 подходов угадывает наш алгоритм\n",
    "\n",
    "    Args:\n",
    "        number_prediction ([type]): функция угадывания\n",
    "\n",
    "    Returns:\n",
    "        int: среднее количество попыток\n",
    "    \"\"\"\n",
    "\n",
    "    count_ls = [] # список для сохранения количества попыток\n",
    "    np.random.seed(1) # фиксируем сид для воспроизводимости\n",
    "    random_array = np.random.randint(1, 101, size=(1000)) # загадали список чисел\n",
    "\n",
    "    for number in random_array:\n",
    "        count_ls.append(number_prediction(number))\n",
    "\n",
    "    score = int(np.mean(count_ls)) # находим среднее количество попыток\n",
    "\n",
    "    print(f'Ваш алгоритм угадывает число в среднем за: {score} попыток')\n",
    "    return(score)\n",
    "\n",
    "# RUN\n",
    "if __name__ == '__main__':\n",
    "    score_game(number_prediction)"
   ]
  }
 ],
 "metadata": {
  "kernelspec": {
   "display_name": "Python 3",
   "language": "python",
   "name": "python3"
  },
  "language_info": {
   "codemirror_mode": {
    "name": "ipython",
    "version": 3
   },
   "file_extension": ".py",
   "mimetype": "text/x-python",
   "name": "python",
   "nbconvert_exporter": "python",
   "pygments_lexer": "ipython3",
   "version": "3.10.9 (tags/v3.10.9:1dd9be6, Dec  6 2022, 20:01:21) [MSC v.1934 64 bit (AMD64)]"
  },
  "orig_nbformat": 4,
  "vscode": {
   "interpreter": {
    "hash": "e0e54ec256a8c9ed7d2896111eac1421644d1c3eba98276591340271b58db6d4"
   }
  }
 },
 "nbformat": 4,
 "nbformat_minor": 2
}
