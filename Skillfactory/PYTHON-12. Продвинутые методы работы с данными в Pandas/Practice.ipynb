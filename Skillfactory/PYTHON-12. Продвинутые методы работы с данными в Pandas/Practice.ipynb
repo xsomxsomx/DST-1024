{
 "cells": [
  {
   "cell_type": "code",
   "execution_count": null,
   "metadata": {},
   "outputs": [],
   "source": []
  }
 ],
 "metadata": {
  "kernelspec": {
   "display_name": "Python 3",
   "language": "python",
   "name": "python3"
  },
  "language_info": {
   "codemirror_mode": {
    "name": "ipython",
    "version": 3
   },
   "file_extension": ".py",
   "mimetype": "text/x-python",
   "name": "python",
   "nbconvert_exporter": "python",
   "pygments_lexer": "ipython3",
   "version": "3.10.9"
  },
  "orig_nbformat": 4,
  "vscode": {
   "interpreter": {
    "hash": "e0e54ec256a8c9ed7d2896111eac1421644d1c3eba98276591340271b58db6d4"
   }
  }
 },
 "nbformat": 4,
 "nbformat_minor": 2
}
