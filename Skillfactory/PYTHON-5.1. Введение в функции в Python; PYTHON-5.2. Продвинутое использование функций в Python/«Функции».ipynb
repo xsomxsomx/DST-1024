{
  "nbformat": 4,
  "nbformat_minor": 0,
  "metadata": {
    "colab": {
      "provenance": []
    },
    "kernelspec": {
      "display_name": "Python 3",
      "language": "python",
      "name": "python3"
    },
    "language_info": {
      "codemirror_mode": {
        "name": "ipython",
        "version": 3
      },
      "file_extension": ".py",
      "mimetype": "text/x-python",
      "name": "python",
      "nbconvert_exporter": "python",
      "pygments_lexer": "ipython3",
      "version": "3.8.5"
    }
  },
  "cells": [
    {
      "cell_type": "markdown",
      "metadata": {
        "id": "djL0UFMoIgyt"
      },
      "source": [
        "# Функции\n",
        "\n",
        "Булыгин Олег:  \n",
        "* [LinkedIn](linkedin.com/in/obulygin)  \n",
        "* [Мой канал в ТГ по Python](https://t.me/pythontalk_ru)\n",
        "* [Чат канала](https://t.me/pythontalk_chat)\n",
        "* [Блог в Телетайпе](https://teletype.in/@pythontalk)\n",
        "* [PythonTalk на Кью](https://yandex.ru/q/loves/pythontalk/)"
      ]
    },
    {
      "cell_type": "markdown",
      "metadata": {
        "id": "-uLwA64gd7PQ"
      },
      "source": [
        "## План\n",
        "- основы;  \n",
        "- return;  \n",
        "- области видимости; \n",
        "- параметры функций; \n",
        "- составной пример;\n",
        "- lambda, map, filter;\n",
        "- цикл, рекурсия, reduce.\n",
        "\n"
      ]
    },
    {
      "cell_type": "markdown",
      "metadata": {
        "id": "pc8i9xaId7PQ"
      },
      "source": [
        "Функции – это обособленный участок кода, который можно вызывать, обратившись к нему по имени, которым он был назван (подпрограмма).\n",
        "Это объект, принимающий аргументы и возвращающий значение."
      ]
    },
    {
      "cell_type": "markdown",
      "metadata": {
        "id": "P04F-7Ntd7PR"
      },
      "source": [
        "Функции помогают избежать дублирования кода, улучшить его структурированность и читаемость."
      ]
    },
    {
      "cell_type": "markdown",
      "metadata": {
        "id": "veWjkUwNIgzL"
      },
      "source": [
        "### Объявление функции\n",
        "\n",
        "Существуют некоторые правила для создания функций в Python:\n",
        "\n",
        "+ Блок функции начинается с ключевого слова def, после которого следуют название функции и круглые скобки ()\n",
        "\n",
        "+ Любые аргументы, которые принимает функция должны находиться внутри этих скобок.\n",
        "\n",
        "+ После скобок идет двоеточие ( : ) и с новой строки с отступом начинается тело функции.\n"
      ]
    },
    {
      "cell_type": "code",
      "metadata": {
        "id": "RWlt-EMpIgzN",
        "colab": {
          "base_uri": "https://localhost:8080/"
        },
        "outputId": "59de19a0-7d17-43a4-bb3c-8f10b836da55"
      },
      "source": [
        "def my_function():\n",
        "    print('Эта наша первая функция')\n",
        "    \n",
        "    \n",
        "my_function()"
      ],
      "execution_count": null,
      "outputs": [
        {
          "output_type": "stream",
          "name": "stdout",
          "text": [
            "Эта наша первая функция\n"
          ]
        }
      ]
    },
    {
      "cell_type": "markdown",
      "metadata": {
        "id": "ahaklUj0Nw3u"
      },
      "source": [
        "Когда запустится строка 'Это наша первая функция'?"
      ]
    },
    {
      "cell_type": "code",
      "metadata": {
        "id": "Gtr_IAjRNmPs",
        "colab": {
          "base_uri": "https://localhost:8080/"
        },
        "outputId": "418af4a6-8b23-4bec-9190-5bc80135c760"
      },
      "source": [
        "print('Раз')\n",
        "\n",
        "def your_function():\n",
        "    print('Это наша первая функция')\n",
        "\n",
        "\n",
        "print('Два')\n",
        "your_function()"
      ],
      "execution_count": null,
      "outputs": [
        {
          "output_type": "stream",
          "name": "stdout",
          "text": [
            "Раз\n",
            "Два\n",
            "Это наша первая функция\n"
          ]
        }
      ]
    },
    {
      "cell_type": "markdown",
      "metadata": {
        "id": "9UmnsAJTN5be"
      },
      "source": [
        "Есть **объявление** и **вызов** функции. Это разные процессы"
      ]
    },
    {
      "cell_type": "markdown",
      "metadata": {
        "id": "yQlxKfmHIgz6"
      },
      "source": [
        "### Функции придают программе структуру"
      ]
    },
    {
      "cell_type": "markdown",
      "metadata": {
        "id": "1FTFp8paIgz-"
      },
      "source": [
        "Польза функций не только в возможности многократного вызова одного и того же кода из разных мест программы. Не менее важно, что благодаря им программа обретает четкую структуру. Функции как бы разделяют ее на обособленные части, каждая из которых выполняет свою конкретную задачу.\n",
        "\n",
        "Пусть надо написать программу, вычисляющую площади разных фигур. Пользователь указывает, площадь какой фигуры он хочет вычислить. После этого вводит исходные данные. Например, длину и ширину в случае прямоугольника. Чтобы разделить поток выполнения на несколько ветвей, следует использовать оператор if-elif-else:"
      ]
    },
    {
      "cell_type": "code",
      "metadata": {
        "id": "dKIiW8aSIg0A",
        "colab": {
          "base_uri": "https://localhost:8080/"
        },
        "outputId": "27f28911-f8bd-496d-df69-ec60093eddf0"
      },
      "source": [
        "figure = input('1-прямоугольник, 2-треугольник, 3-круг: ')\n",
        " \n",
        "if figure == '1':\n",
        "    a = float(input('Ширина: '))\n",
        "    b = float(input('Высота: '))\n",
        "    print(f'Площадь: {a*b}')\n",
        "elif figure == '2':\n",
        "    a = float(input('Основание: '))\n",
        "    h = float(input('Высота: '))\n",
        "    print(f'Площадь: {0.5 * a * h}')\n",
        "elif figure == '3':\n",
        "    r = float(input('Радиус: '))\n",
        "    print(f'Площадь: {3.14 * r**2}')\n",
        "else:\n",
        "    print('Ошибка ввода')"
      ],
      "execution_count": null,
      "outputs": [
        {
          "output_type": "stream",
          "name": "stdout",
          "text": [
            "1-прямоугольник, 2-треугольник, 3-круг: 3\n",
            "Радиус: 5\n",
            "Площадь: 78.5\n"
          ]
        }
      ]
    },
    {
      "cell_type": "code",
      "metadata": {
        "id": "X4eLEHn6Ig0G"
      },
      "source": [
        "def rectangle():\n",
        "    a = float(input('Ширина: '))\n",
        "    b = float(input('Высота: '))\n",
        "    print(f'Площадь: {a*b}')\n",
        "    \n",
        "def triangle():\n",
        "    a = float(input('Основание: '))\n",
        "    h = float(input('Высота: '))\n",
        "    print(f'Площадь: {0.5 * a * h}')\n",
        "\n",
        "def circle():\n",
        "    r = float(input('Радиус: '))\n",
        "    print(f'Площадь: {3.14 * r**2}')\n",
        "    \n",
        "def main():\n",
        "    figure = input('1-прямоугольник, 2-треугольник, 3-круг: ')\n",
        "    if figure == '1':\n",
        "        rectangle()\n",
        "    elif figure == '2':\n",
        "        triangle()\n",
        "    elif figure == '3':\n",
        "        circle()\n",
        "    else:\n",
        "        print('Ошибка ввода')\n",
        "        \n",
        "main()"
      ],
      "execution_count": null,
      "outputs": []
    },
    {
      "cell_type": "markdown",
      "metadata": {
        "id": "v4Xh1dEWIg0e"
      },
      "source": [
        "Из общей логики программы как бы убраны и обособлены инструкции для нахождения площадей. Программа теперь состоит из отдельных 'кирпичиков Лего'. В основной ветке мы можем комбинировать их как угодно. Она играет роль управляющего механизма.\n",
        "\n",
        "Если нам когда-нибудь захочется вычислять площадь треугольника по формуле Герона, а не через высоту, то не придется искать код во всей программе (представьте, что она состоит из тысяч строк кода как реальные программы). Мы пойдем к месту определения функций и изменим тело одной из них.\n",
        "\n",
        "Если понадобиться использовать эти функции в какой-нибудь другой программе, то мы сможем импортировать их туда, сославшись на данный файл с кодом."
      ]
    },
    {
      "cell_type": "markdown",
      "metadata": {
        "id": "4oBO1B9jIgzh"
      },
      "source": [
        "### Ключевое слово return\n",
        "\n",
        "* Выражение return прекращает выполнение функции и возвращает указанное после выражения значение. \n",
        "\n",
        "* Выражение return без аргументов это то же самое, что и выражение return None. \n",
        "\n",
        "* То, что функция возвращает можно присваивать какой-либо переменной."
      ]
    },
    {
      "cell_type": "code",
      "metadata": {
        "id": "n_ohL5N9ONTL",
        "colab": {
          "base_uri": "https://localhost:8080/"
        },
        "outputId": "e5b0ec52-90ae-4958-dace-c1449b8d9ae3"
      },
      "source": [
        "def square():\n",
        "    user_input = int(input('Введите число'))\n",
        "    result = user_input ** 2\n",
        "    return result\n",
        "\n",
        "# res = square()\n",
        "# print(res) \n",
        "# когда вызываем функцию внутри print на экран выводится то, что она возвращает. В jupyter можно и без print\n",
        "print(square())"
      ],
      "execution_count": null,
      "outputs": [
        {
          "output_type": "stream",
          "name": "stdout",
          "text": [
            "Введите число6\n",
            "36\n"
          ]
        }
      ]
    },
    {
      "cell_type": "code",
      "metadata": {
        "id": "9TE7U_m8d7PW",
        "colab": {
          "base_uri": "https://localhost:8080/"
        },
        "outputId": "f1d6a421-5966-4a57-fa87-27d6ddd4c270"
      },
      "source": [
        "# как думаете, что получим сейчас?\n",
        "def square():\n",
        "    user_input = int(input('Введите число'))\n",
        "    result = user_input ** 2\n",
        "    print(result)\n",
        "    \n",
        "print(square())"
      ],
      "execution_count": null,
      "outputs": [
        {
          "output_type": "stream",
          "name": "stdout",
          "text": [
            "Введите число5\n",
            "25\n",
            "None\n"
          ]
        }
      ]
    },
    {
      "cell_type": "markdown",
      "metadata": {
        "id": "aBdoesrjd7Pb"
      },
      "source": [
        "### Параметры функции"
      ]
    },
    {
      "cell_type": "markdown",
      "metadata": {
        "id": "BhY7_uxqd7Pb"
      },
      "source": [
        "Функция может принимать более 1 параметра (а может не принимать параметры вообще).\n",
        "\n",
        "Для всех параметров функций можно указывать значения по-умолчанию, это дает возможность вызвать функцию с меньшим числом параметров.\n",
        "\n"
      ]
    },
    {
      "cell_type": "markdown",
      "metadata": {
        "id": "G6_adbf2O_hF"
      },
      "source": [
        "Переменные в скобках – это параметры функции, которые мы указываем при объявлении функции. Когда мы её вызываем мы передаем в вызов аргументы. В нашем случае это будут числа. "
      ]
    },
    {
      "cell_type": "code",
      "metadata": {
        "id": "EHK_kqH3Igzj",
        "colab": {
          "base_uri": "https://localhost:8080/"
        },
        "outputId": "492ea4aa-013c-4ff2-b07f-99e4a6bbe92d"
      },
      "source": [
        "def bigger(a, b):\n",
        "    '''Эта функция сравнивает числа и выдает большее'''\n",
        "    if a > b:\n",
        "        return a\n",
        "    return b \n",
        " \n",
        "# присваиваем результат функции bigger переменной num\n",
        "num = bigger(26, 24)\n",
        "print(num)"
      ],
      "execution_count": null,
      "outputs": [
        {
          "output_type": "stream",
          "name": "stdout",
          "text": [
            "26\n"
          ]
        }
      ]
    },
    {
      "cell_type": "code",
      "metadata": {
        "id": "g-mCORRUd7Pc",
        "colab": {
          "base_uri": "https://localhost:8080/",
          "height": 134
        },
        "outputId": "6f126d37-ff17-4b31-9c8a-c7f45e6b0d8c"
      },
      "source": [
        "# функция с параметром по умолчанию\n",
        "# они всегда должны следовать параметрам без значения по умолчанию\n",
        "def power(number, number_2=2):\n",
        "    result = number ** number_2\n",
        "    return result\n",
        "print(power(10))"
      ],
      "execution_count": null,
      "outputs": [
        {
          "output_type": "error",
          "ename": "SyntaxError",
          "evalue": "ignored",
          "traceback": [
            "\u001b[0;36m  File \u001b[0;32m\"<ipython-input-12-931c4ecd10dc>\"\u001b[0;36m, line \u001b[0;32m3\u001b[0m\n\u001b[0;31m    def power(number=2, number_2):\u001b[0m\n\u001b[0m              ^\u001b[0m\n\u001b[0;31mSyntaxError\u001b[0m\u001b[0;31m:\u001b[0m non-default argument follows default argument\n"
          ]
        }
      ]
    },
    {
      "cell_type": "markdown",
      "metadata": {
        "id": "Eoxt12iBd7Pc"
      },
      "source": [
        "Если при создании функции мы указали количество передаваемых ей аргументов и их порядок, \n",
        "то и вызывать ее мы должны с тем же количеством аргументов, заданных в нужном порядке. \n",
        "\n",
        "Если при вызове мы будем явно указывать имена аргументов, то их можно передавать в любом порядке"
      ]
    },
    {
      "cell_type": "code",
      "metadata": {
        "id": "glTwlsqed7Pc",
        "colab": {
          "base_uri": "https://localhost:8080/",
          "height": 171
        },
        "outputId": "54c0a2b1-e4d4-4668-e5f5-12004c1d26a5"
      },
      "source": [
        "print(power(2, 3, 1))"
      ],
      "execution_count": null,
      "outputs": [
        {
          "output_type": "error",
          "ename": "TypeError",
          "evalue": "ignored",
          "traceback": [
            "\u001b[0;31m---------------------------------------------------------------------------\u001b[0m",
            "\u001b[0;31mTypeError\u001b[0m                                 Traceback (most recent call last)",
            "\u001b[0;32m<ipython-input-10-0128783ae8c6>\u001b[0m in \u001b[0;36m<module>\u001b[0;34m\u001b[0m\n\u001b[0;32m----> 1\u001b[0;31m \u001b[0mprint\u001b[0m\u001b[0;34m(\u001b[0m\u001b[0mpower\u001b[0m\u001b[0;34m(\u001b[0m\u001b[0;36m2\u001b[0m\u001b[0;34m,\u001b[0m \u001b[0;36m3\u001b[0m\u001b[0;34m,\u001b[0m \u001b[0;36m1\u001b[0m\u001b[0;34m)\u001b[0m\u001b[0;34m)\u001b[0m\u001b[0;34m\u001b[0m\u001b[0;34m\u001b[0m\u001b[0m\n\u001b[0m",
            "\u001b[0;31mTypeError\u001b[0m: power() takes from 1 to 2 positional arguments but 3 were given"
          ]
        }
      ]
    },
    {
      "cell_type": "code",
      "metadata": {
        "id": "DuIz2T3pd7Pd",
        "colab": {
          "base_uri": "https://localhost:8080/",
          "height": 171
        },
        "outputId": "4c5c0706-7c53-431c-ce62-b2d7e391753c"
      },
      "source": [
        "print(power())"
      ],
      "execution_count": null,
      "outputs": [
        {
          "output_type": "error",
          "ename": "TypeError",
          "evalue": "ignored",
          "traceback": [
            "\u001b[0;31m---------------------------------------------------------------------------\u001b[0m",
            "\u001b[0;31mTypeError\u001b[0m                                 Traceback (most recent call last)",
            "\u001b[0;32m<ipython-input-11-58ddcb7b1228>\u001b[0m in \u001b[0;36m<module>\u001b[0;34m\u001b[0m\n\u001b[0;32m----> 1\u001b[0;31m \u001b[0mprint\u001b[0m\u001b[0;34m(\u001b[0m\u001b[0mpower\u001b[0m\u001b[0;34m(\u001b[0m\u001b[0;34m)\u001b[0m\u001b[0;34m)\u001b[0m\u001b[0;34m\u001b[0m\u001b[0;34m\u001b[0m\u001b[0m\n\u001b[0m",
            "\u001b[0;31mTypeError\u001b[0m: power() missing 1 required positional argument: 'number'"
          ]
        }
      ]
    },
    {
      "cell_type": "code",
      "metadata": {
        "id": "9WzJnXYBd7Pd",
        "colab": {
          "base_uri": "https://localhost:8080/"
        },
        "outputId": "a71244d2-e743-4bfe-bfd9-3bfe9c4ea4e0"
      },
      "source": [
        "# если передавать аргументы не в том порядке, в каком они были описаны при объявлении\n",
        "print(power(number_2=3, number=2))"
      ],
      "execution_count": null,
      "outputs": [
        {
          "output_type": "stream",
          "name": "stdout",
          "text": [
            "8\n"
          ]
        }
      ]
    },
    {
      "cell_type": "markdown",
      "metadata": {
        "id": "BF7EhPbcSVBV"
      },
      "source": [
        "Иногда возникает ситуация, когда вы заранее не знаете, какое количество аргументов будет необходимо принять функции. В этом случае следует использовать аргументы произвольной длины ([args и kwargs](https://teletype.in/@pythontalk/python_asteriks)). Они задаются произвольным именем переменной, перед которой ставится звездочка (args) или две здездочки (kwargs)."
      ]
    },
    {
      "cell_type": "code",
      "metadata": {
        "id": "ilXaysWUawBT",
        "colab": {
          "base_uri": "https://localhost:8080/"
        },
        "outputId": "b6920d55-1ea4-41d9-c4b1-d65466d12a92"
      },
      "source": [
        "# Сумму всех позиционных аргументов вычисляем с помощью sum\n",
        "# *args упаковывает все позиционные аргументы в кортеж\n",
        "# **kwargs упаковывает все именованные аргументы в словарь, из которого получаем значение по ключу\n",
        "\n",
        "def sum_division(*args, **kwargs):\n",
        "    print(args)\n",
        "    print(kwargs)\n",
        "    return round(sum(args) / kwargs['divisor'], kwargs['accuracy'])\n",
        "\n",
        "print(sum_division(1, 2, 3, 4, 5, 6, 56, 56, 7, 8, 9, 10, divisor=7, accuracy=2))"
      ],
      "execution_count": null,
      "outputs": [
        {
          "output_type": "stream",
          "name": "stdout",
          "text": [
            "(1, 2, 3, 4, 5, 6, 56, 56, 7, 8, 9, 10)\n",
            "{'divisor': 7, 'accuracy': 2}\n",
            "23.86\n"
          ]
        }
      ]
    },
    {
      "cell_type": "code",
      "source": [
        "print(*[1, 2, 3, 4])"
      ],
      "metadata": {
        "colab": {
          "base_uri": "https://localhost:8080/"
        },
        "id": "hqy_CELgOEp0",
        "outputId": "db4302c7-72ea-4029-fcf3-9bf4e8039b6b"
      },
      "execution_count": null,
      "outputs": [
        {
          "output_type": "stream",
          "name": "stdout",
          "text": [
            "1 2 3 4\n"
          ]
        }
      ]
    },
    {
      "cell_type": "code",
      "metadata": {
        "id": "9XSfxweRawBT",
        "colab": {
          "base_uri": "https://localhost:8080/"
        },
        "outputId": "c6b15578-ca7a-4a4f-db6e-36e7db2397e8"
      },
      "source": [
        "# распаковка позволяет отделить создание списка аргументов от их передачи в функцию\n",
        "numbers = [1, 2, 3, 4, 5, 6, 7, 8, 9, 10]\n",
        "params = {'divisor': 7,'accuracy': 2}\n",
        "\n",
        "print(sum_division(*numbers, **params))"
      ],
      "execution_count": null,
      "outputs": [
        {
          "output_type": "stream",
          "name": "stdout",
          "text": [
            "(1, 2, 3, 4, 5, 6, 7, 8, 9, 10)\n",
            "{'divisor': 7, 'accuracy': 2}\n",
            "7.86\n"
          ]
        }
      ]
    },
    {
      "cell_type": "markdown",
      "metadata": {
        "id": "6GGM5SzuRYl3"
      },
      "source": [
        "#### Практика. Напишем функцию, которая будет находить среднюю цену за квартиры по всем районам города"
      ]
    },
    {
      "cell_type": "code",
      "metadata": {
        "id": "CRljX_0tRexA"
      },
      "source": [
        "district_1 = {'flat_1': 10500, 'flat_2': 11000}\n",
        "district_2 = {'flat_3': 15000}\n",
        "district_3 = {'flat_4': 6500, 'flat_5': 7000, 'flat_6': 6000}   "
      ],
      "execution_count": null,
      "outputs": []
    },
    {
      "cell_type": "code",
      "source": [
        "def get_avg_price(**districts):\n",
        "    print(districts)\n",
        "    return sum(districts.values()) / len(districts.values())\n",
        "\n",
        "print(get_avg_price(**district_2, **district_1, **district_3))"
      ],
      "metadata": {
        "colab": {
          "base_uri": "https://localhost:8080/"
        },
        "id": "mC4P7Zpp_j43",
        "outputId": "bd95d99b-44d1-4352-f99c-643ae6e642cd"
      },
      "execution_count": null,
      "outputs": [
        {
          "output_type": "stream",
          "name": "stdout",
          "text": [
            "{'flat_3': 15000, 'flat_1': 10500, 'flat_2': 11000, 'flat_4': 6500, 'flat_5': 7000, 'flat_6': 6000}\n",
            "9333.333333333334\n"
          ]
        }
      ]
    },
    {
      "cell_type": "code",
      "source": [
        "def get_avg_price(districts):\n",
        "    print(districts)\n",
        "    return sum(districts.values()) / len(districts.values())\n",
        "\n",
        "print(get_avg_price({**district_2, **district_1, **district_3}))"
      ],
      "metadata": {
        "colab": {
          "base_uri": "https://localhost:8080/"
        },
        "id": "OXxiwgAiPYJv",
        "outputId": "8c4505d8-845e-425e-ea5f-f68eb0c31929"
      },
      "execution_count": null,
      "outputs": [
        {
          "output_type": "stream",
          "name": "stdout",
          "text": [
            "{'flat_3': 15000, 'flat_1': 10500, 'flat_2': 11000, 'flat_4': 6500, 'flat_5': 7000, 'flat_6': 6000}\n",
            "9333.333333333334\n"
          ]
        }
      ]
    },
    {
      "cell_type": "code",
      "source": [
        "{**district_1, **district_2}"
      ],
      "metadata": {
        "colab": {
          "base_uri": "https://localhost:8080/"
        },
        "id": "0OA5mXS9PkzX",
        "outputId": "a37da643-2b0d-4cc8-9fb9-75224c4951fa"
      },
      "execution_count": null,
      "outputs": [
        {
          "output_type": "execute_result",
          "data": {
            "text/plain": [
              "{'flat_1': 10500, 'flat_2': 11000, 'flat_3': 15000}"
            ]
          },
          "metadata": {},
          "execution_count": 22
        }
      ]
    },
    {
      "cell_type": "markdown",
      "metadata": {
        "id": "ZpbWF9Spd7Pj"
      },
      "source": [
        "### Комплексный пример"
      ]
    },
    {
      "cell_type": "code",
      "source": [],
      "metadata": {
        "id": "nFX1WM-rSAPG"
      },
      "execution_count": null,
      "outputs": []
    },
    {
      "cell_type": "code",
      "metadata": {
        "id": "Gvct0-t8d7Pk"
      },
      "source": [
        "students_list = [\n",
        "    {'name': 'Василий', 'surname': 'Теркин', 'gender': 'м', 'program_exp': True, 'grade': [8, 8, 9, 9], 'exam': 8},\n",
        "    {'name': 'Мария', 'surname': 'Павлова', 'gender': 'ж', 'program_exp': True, 'grade': [7, 8, 9, 7, 9], 'exam': 9},\n",
        "    {'name': 'Ирина', 'surname': 'Андреева', 'gender': 'ж', 'program_exp': False, 'grade': [10, 9, 8, 10, 10], 'exam': 7},\n",
        "    {'name': 'Татьяна', 'surname': 'Сидорова', 'gender': 'ж', 'program_exp': False, 'grade': [7, 8, 8, 9, 8],'exam': 10},\n",
        "    {'name': 'Иван', 'surname': 'Васильев', 'gender': 'м', 'program_exp': True, 'grade': [9, 8, 9], 'exam': 5},\n",
        "    {'name': 'Роман', 'surname': 'Золотарев', 'gender': 'м', 'program_exp': False, 'grade': [8, 9, 9, 6, 9], 'exam': 6}\n",
        "]"
      ],
      "execution_count": null,
      "outputs": []
    },
    {
      "cell_type": "markdown",
      "source": [
        "1) https://teletype.in/@pythontalk/list_comprehension  \n",
        "2) https://teletype.in/@pythontalk/dictionary_comprehension"
      ],
      "metadata": {
        "id": "4xJxDVjkTge3"
      }
    },
    {
      "cell_type": "code",
      "source": [
        "def get_avg_hw_grade(students, gender=None, exp=None):\n",
        "    sum_ = 0\n",
        "    count = 0\n",
        "    for student in students:\n",
        "        if (student['gender'] == gender or gender is None) and (student['program_exp'] is exp or exp is None):\n",
        "            sum_ += sum(student['grade']) / len(student['grade'])\n",
        "            count += 1\n",
        "\n",
        "    return round(sum_ / count, 2)\n",
        "\n",
        "print(get_avg_hw_grade(students_list))\n",
        "print(get_avg_hw_grade(students_list, 'м'))\n",
        "print(get_avg_hw_grade(students_list, 'ж'))\n",
        "\n",
        "print(get_avg_hw_grade(students_list, 'м', True))\n",
        "print(get_avg_hw_grade(students_list, 'ж', True))\n",
        "\n",
        "print(get_avg_hw_grade(students_list,  exp=True))"
      ],
      "metadata": {
        "colab": {
          "base_uri": "https://localhost:8080/"
        },
        "id": "1SuXwpErQQyO",
        "outputId": "7835235d-340c-4d5e-c352-13653eb3a52f"
      },
      "execution_count": null,
      "outputs": [
        {
          "output_type": "stream",
          "name": "stdout",
          "text": [
            "8.43\n",
            "8.4\n",
            "8.47\n",
            "8.5\n",
            "8.0\n",
            "8.33\n"
          ]
        }
      ]
    },
    {
      "cell_type": "code",
      "source": [
        "def filter_students(students, gender=None, exp=None):\n",
        "    return [student for student in students if (student['gender'] == gender or gender is None) \n",
        "            and (student['program_exp'] is exp or exp is None)]\n",
        "\n",
        "print(filter_students(students_list, 'м'))\n",
        "print(filter_students(students_list, 'ж'))\n",
        "print(filter_students(students_list, exp=True))"
      ],
      "metadata": {
        "colab": {
          "base_uri": "https://localhost:8080/"
        },
        "id": "MHE5_QMSWGP2",
        "outputId": "6dedd01a-aceb-4aaa-f270-9e32255eaaad"
      },
      "execution_count": null,
      "outputs": [
        {
          "output_type": "stream",
          "name": "stdout",
          "text": [
            "[{'name': 'Василий', 'surname': 'Теркин', 'gender': 'м', 'program_exp': True, 'grade': [8, 8, 9, 10, 9], 'exam': 8}, {'name': 'Иван', 'surname': 'Васильев', 'gender': 'м', 'program_exp': True, 'grade': [9, 8, 9, 6, 9], 'exam': 5}, {'name': 'Роман', 'surname': 'Золотарев', 'gender': 'м', 'program_exp': False, 'grade': [8, 9, 9, 6, 9], 'exam': 6}]\n",
            "[{'name': 'Мария', 'surname': 'Павлова', 'gender': 'ж', 'program_exp': True, 'grade': [7, 8, 9, 7, 9], 'exam': 9}, {'name': 'Ирина', 'surname': 'Андреева', 'gender': 'ж', 'program_exp': False, 'grade': [10, 9, 8, 10, 10], 'exam': 7}, {'name': 'Татьяна', 'surname': 'Сидорова', 'gender': 'ж', 'program_exp': False, 'grade': [7, 8, 8, 9, 8], 'exam': 10}]\n",
            "[{'name': 'Василий', 'surname': 'Теркин', 'gender': 'м', 'program_exp': True, 'grade': [8, 8, 9, 10, 9], 'exam': 8}, {'name': 'Мария', 'surname': 'Павлова', 'gender': 'ж', 'program_exp': True, 'grade': [7, 8, 9, 7, 9], 'exam': 9}, {'name': 'Иван', 'surname': 'Васильев', 'gender': 'м', 'program_exp': True, 'grade': [9, 8, 9, 6, 9], 'exam': 5}]\n"
          ]
        }
      ]
    },
    {
      "cell_type": "code",
      "source": [
        "def get_avg_hw_grade(students):\n",
        "    # res = sum([sum(student['grade']) / len(student['grade']) for student in students])\n",
        "    # print(res)\n",
        "    return round(sum([sum(student['grade']) / len(student['grade']) for student in students]) / len(students), 2)"
      ],
      "metadata": {
        "id": "Ma5MKi8XSoSr"
      },
      "execution_count": null,
      "outputs": []
    },
    {
      "cell_type": "code",
      "source": [
        "print(get_avg_hw_grade(filter_students(students_list, 'м')))\n",
        "print(get_avg_hw_grade(filter_students(students_list, 'ж')))\n",
        "print(get_avg_hw_grade(filter_students(students_list, exp=True)))"
      ],
      "metadata": {
        "colab": {
          "base_uri": "https://localhost:8080/"
        },
        "id": "UsQeyTbSQQ1P",
        "outputId": "7b7bb899-6260-4f10-874a-71178346dff6"
      },
      "execution_count": null,
      "outputs": [
        {
          "output_type": "stream",
          "name": "stdout",
          "text": [
            "8.4\n",
            "8.47\n",
            "8.33\n"
          ]
        }
      ]
    },
    {
      "cell_type": "code",
      "source": [
        "print(get_avg_hw_grade(students_list))"
      ],
      "metadata": {
        "colab": {
          "base_uri": "https://localhost:8080/"
        },
        "id": "60j2Mgwb_nOy",
        "outputId": "1b183e72-0a7a-456a-b193-7e603ae72486"
      },
      "execution_count": null,
      "outputs": [
        {
          "output_type": "stream",
          "name": "stdout",
          "text": [
            "8.43\n"
          ]
        }
      ]
    },
    {
      "cell_type": "code",
      "source": [
        "def main(students):\n",
        "    while True:\n",
        "        user_comand = input('Введите команду')\n",
        "        if user_comand == '1':\n",
        "            print(get_avg_hw_grade(students))\n",
        "        elif user_comand == '2':\n",
        "            print(get_avg_hw_grade(filter_students(students, 'м')))\n",
        "        elif user_comand == '3':\n",
        "            print(get_avg_hw_grade(filter_students(students, 'ж')))\n",
        "        elif user_comand == 'q':\n",
        "            print('Выход из программы')\n",
        "            return\n",
        "\n",
        "main(students_list)    "
      ],
      "metadata": {
        "colab": {
          "base_uri": "https://localhost:8080/"
        },
        "id": "eFe-AZedXw71",
        "outputId": "ac5e7296-1cb1-43b4-b3bc-48a5e29a3b04"
      },
      "execution_count": null,
      "outputs": [
        {
          "output_type": "stream",
          "name": "stdout",
          "text": [
            "Введите команду1\\\n",
            "Введите команду1\n",
            "8.43\n",
            "Введите команду2\n",
            "8.4\n",
            "Введите команду3\n",
            "8.47\n",
            "Введите команду1\n",
            "8.43\n",
            "Введите команду2\n",
            "8.4\n",
            "Введите команду1\n",
            "8.43\n",
            "Введите команду2\n",
            "8.4\n",
            "Введите команду3\n",
            "8.47\n",
            "Введите командуq\n",
            "Выход из программы\n"
          ]
        }
      ]
    },
    {
      "cell_type": "markdown",
      "metadata": {
        "id": "mgMjftejd7Ph"
      },
      "source": [
        "### Анонимные функции, функции map и filter"
      ]
    },
    {
      "cell_type": "markdown",
      "metadata": {
        "id": "johkgSPXd7Ph"
      },
      "source": [
        "[Анонимные функции](https://habr.com/ru/post/507642/) создаются при помощи инструкции lambda и используются для более краткой записи функций с одним выражением. Выполняются быстрее обычных и не требуют инструкции return."
      ]
    },
    {
      "cell_type": "code",
      "metadata": {
        "id": "go0gAu5Qd7Ph",
        "colab": {
          "base_uri": "https://localhost:8080/"
        },
        "outputId": "080c1c23-bd79-470a-f04b-0790aa1dde69"
      },
      "source": [
        "func = lambda x, y: x + y\n",
        "print(func(1, 8))"
      ],
      "execution_count": null,
      "outputs": [
        {
          "output_type": "stream",
          "name": "stdout",
          "text": [
            "9\n"
          ]
        }
      ]
    },
    {
      "cell_type": "code",
      "metadata": {
        "id": "RQqB-oQ8d7Ph",
        "colab": {
          "base_uri": "https://localhost:8080/"
        },
        "outputId": "7ac18aa1-579c-408f-9e1e-d5c695595fcb"
      },
      "source": [
        "sqrt = lambda x: (x**0.5, x**2)\n",
        "print(sqrt(9))"
      ],
      "execution_count": null,
      "outputs": [
        {
          "output_type": "stream",
          "name": "stdout",
          "text": [
            "(3.0, 81)\n"
          ]
        }
      ]
    },
    {
      "cell_type": "code",
      "source": [
        "(lambda x: (x**0.5, x**2))(5)"
      ],
      "metadata": {
        "colab": {
          "base_uri": "https://localhost:8080/"
        },
        "id": "WzNh9MY7Y8Gm",
        "outputId": "34a4cc9e-cfc9-48a2-8c8a-71e6ec5b360a"
      },
      "execution_count": null,
      "outputs": [
        {
          "output_type": "execute_result",
          "data": {
            "text/plain": [
              "(2.23606797749979, 25)"
            ]
          },
          "metadata": {},
          "execution_count": 55
        }
      ]
    },
    {
      "cell_type": "markdown",
      "metadata": {
        "id": "Y-BEeoayd7Ph"
      },
      "source": [
        "### lambda + map"
      ]
    },
    {
      "cell_type": "markdown",
      "metadata": {
        "id": "vQikb7snd7Pi"
      },
      "source": [
        "В Python функция map принимает два аргумента: функцию и итерируемый объект, например, список. map применяет к каждому элементу объекта переданного в функцию."
      ]
    },
    {
      "cell_type": "markdown",
      "metadata": {
        "id": "KfsvVpu-d7Pi"
      },
      "source": [
        "Пишем программу, которая создает список, содержащий квадраты натуральных чисел от 1 до 9"
      ]
    },
    {
      "cell_type": "markdown",
      "source": [
        "https://teletype.in/@pythontalk/iterator_generator"
      ],
      "metadata": {
        "id": "GeOXBYJdZawF"
      }
    },
    {
      "cell_type": "code",
      "metadata": {
        "id": "z1T6oKmvd7Pi",
        "colab": {
          "base_uri": "https://localhost:8080/"
        },
        "outputId": "290c7424-cc1c-405c-b52f-6ec48a6b2933"
      },
      "source": [
        "# Традиционным способом\n",
        "my_list = []\n",
        "for i in range(1, 10):\n",
        "    my_list.append(i ** 2)\n",
        "print(my_list)"
      ],
      "execution_count": null,
      "outputs": [
        {
          "output_type": "stream",
          "name": "stdout",
          "text": [
            "[1, 4, 9, 16, 25, 36, 49, 64, 81]\n"
          ]
        }
      ]
    },
    {
      "cell_type": "code",
      "metadata": {
        "id": "lAVF34Fed7Pi",
        "colab": {
          "base_uri": "https://localhost:8080/"
        },
        "outputId": "44d57d71-c926-454d-a1c2-63ec9ecbd6d8"
      },
      "source": [
        "# С помощью map+lambda\n",
        "print(list(map(lambda x: x**2, range(1,10))))"
      ],
      "execution_count": null,
      "outputs": [
        {
          "output_type": "stream",
          "name": "stdout",
          "text": [
            "[1, 4, 9, 16, 25, 36, 49, 64, 81]\n"
          ]
        }
      ]
    },
    {
      "cell_type": "code",
      "metadata": {
        "id": "FLqx6pfXIg3j",
        "scrolled": true,
        "colab": {
          "base_uri": "https://localhost:8080/"
        },
        "outputId": "5670bea4-ada3-4a00-f665-dc24dc1b7c48"
      },
      "source": [
        "def miles_to_kilometers(num_miles):\n",
        "    return num_miles * 1.6\n",
        " \n",
        "mile_distances = [1.0, 6.5, 17.4, 2.4, 9]\n",
        "kilometer_distances = list(map(miles_to_kilometers, mile_distances))\n",
        "print(kilometer_distances)"
      ],
      "execution_count": null,
      "outputs": [
        {
          "output_type": "stream",
          "name": "stdout",
          "text": [
            "[1.6, 10.4, 27.84, 3.84, 14.4]\n"
          ]
        }
      ]
    },
    {
      "cell_type": "code",
      "metadata": {
        "id": "tz099Zb1Ig3n",
        "scrolled": true,
        "colab": {
          "base_uri": "https://localhost:8080/"
        },
        "outputId": "c8758f58-e9c8-4966-a69b-8058d12e7342"
      },
      "source": [
        "mile_distances = [1.0, 6.5, 17.4, 2.4, 9]\n",
        "kilometer_distances = list(map(lambda x: x * 1.6, mile_distances))\n",
        "print(kilometer_distances)"
      ],
      "execution_count": null,
      "outputs": [
        {
          "output_type": "stream",
          "name": "stdout",
          "text": [
            "[1.6, 10.4, 27.84, 3.84, 14.4]\n"
          ]
        }
      ]
    },
    {
      "cell_type": "markdown",
      "metadata": {
        "id": "vUJMJrW7d7Pj"
      },
      "source": [
        "#### Практика. Напишите функцию, которая будет находить среднюю цену на товары в каждой категории по отдельности."
      ]
    },
    {
      "cell_type": "code",
      "metadata": {
        "id": "Up5GPORUIg0o"
      },
      "source": [
        "prices = [[100, 200, 400, 600], [200, 500], [100, 200, 100, 100], [800, 900]]"
      ],
      "execution_count": null,
      "outputs": []
    },
    {
      "cell_type": "code",
      "metadata": {
        "id": "Mev3JY5PFoXD",
        "colab": {
          "base_uri": "https://localhost:8080/"
        },
        "outputId": "c2e610e9-e2b6-4424-904c-0970035e881c"
      },
      "source": [
        "for el in map(lambda x: sum(x)/len(x), prices):\n",
        "    print(el)"
      ],
      "execution_count": null,
      "outputs": [
        {
          "output_type": "stream",
          "name": "stdout",
          "text": [
            "325.0\n",
            "350.0\n",
            "125.0\n",
            "850.0\n"
          ]
        }
      ]
    },
    {
      "cell_type": "markdown",
      "metadata": {
        "id": "p_Z4uw73j8Xx"
      },
      "source": [
        "### lambda + filter"
      ]
    },
    {
      "cell_type": "code",
      "metadata": {
        "id": "EBLHeZpvQnFZ"
      },
      "source": [
        "geo_logs = [\n",
        "    {'visit1': ['Москва', 'Россия']},\n",
        "    {'visit2': ['Дели', 'Индия']},\n",
        "    {'visit3': ['Владимир', 'Россия']},\n",
        "    {'visit4': ['Лиссабон', 'Португалия']},\n",
        "    {'visit5': ['Париж', 'Франция']},\n",
        "    {'visit7': ['Тула', 'Россия']},\n",
        "    {'visit9': ['Курск', 'Россия']},\n",
        "    {'visit10': ['Архангельск', 'Россия']}\n",
        "]"
      ],
      "execution_count": null,
      "outputs": []
    },
    {
      "cell_type": "code",
      "metadata": {
        "id": "DaRAQ3R1QsP1",
        "colab": {
          "base_uri": "https://localhost:8080/"
        },
        "outputId": "e281829f-bef2-4ebb-acdf-db3d58fd6b0d"
      },
      "source": [
        "# раньше мы бы сделали так\n",
        "result = []\n",
        "for log in geo_logs:\n",
        "    if 'Россия' in list(log.values())[0]:\n",
        "        result.append(log)\n",
        "        \n",
        "print(result)"
      ],
      "execution_count": null,
      "outputs": [
        {
          "output_type": "stream",
          "name": "stdout",
          "text": [
            "[{'visit1': ['Москва', 'Россия']}, {'visit3': ['Владимир', 'Россия']}, {'visit7': ['Тула', 'Россия']}, {'visit9': ['Курск', 'Россия']}, {'visit10': ['Архангельск', 'Россия']}]\n"
          ]
        }
      ]
    },
    {
      "cell_type": "code",
      "metadata": {
        "id": "69ru-aTZQu8j",
        "colab": {
          "base_uri": "https://localhost:8080/"
        },
        "outputId": "53a0c9af-831a-4f92-8009-3c219373f927"
      },
      "source": [
        "# а теперь можем так\n",
        "print(list(filter(lambda log: 'Россия' in list(log.values())[0], geo_logs)))"
      ],
      "execution_count": null,
      "outputs": [
        {
          "output_type": "stream",
          "name": "stdout",
          "text": [
            "[{'visit1': ['Москва', 'Россия']}, {'visit3': ['Владимир', 'Россия']}, {'visit7': ['Тула', 'Россия']}, {'visit9': ['Курск', 'Россия']}, {'visit10': ['Архангельск', 'Россия']}]\n"
          ]
        }
      ]
    },
    {
      "cell_type": "code",
      "source": [
        "# {'2018-01-01': {'yandex': {'cpc': 100}}}"
      ],
      "metadata": {
        "id": "V2L7nxPia1_P"
      },
      "execution_count": null,
      "outputs": []
    },
    {
      "cell_type": "code",
      "source": [
        "crazy_list = ['2018-01-01', 'yandex', 'cpc', 100]"
      ],
      "metadata": {
        "id": "03EErA78aUq5"
      },
      "execution_count": null,
      "outputs": []
    },
    {
      "cell_type": "code",
      "source": [
        "def get_dict(some_list):\n",
        "    res = some_list[-1]\n",
        "    for el in reversed(some_list[:-1]):\n",
        "        res = {el: res}\n",
        "    return res \n",
        "\n",
        "get_dict(crazy_list)"
      ],
      "metadata": {
        "colab": {
          "base_uri": "https://localhost:8080/"
        },
        "id": "I5AQGq6jaUvn",
        "outputId": "e95cd687-9a38-46ca-dd47-111f8d4eef4a"
      },
      "execution_count": null,
      "outputs": [
        {
          "output_type": "execute_result",
          "data": {
            "text/plain": [
              "{'2018-01-01': {'yandex': {'cpc': 100}}}"
            ]
          },
          "metadata": {},
          "execution_count": 67
        }
      ]
    },
    {
      "cell_type": "code",
      "source": [
        "from functools import reduce\n",
        "reduce(lambda a,b : a*b, [2, 3, 4, 5])"
      ],
      "metadata": {
        "colab": {
          "base_uri": "https://localhost:8080/"
        },
        "id": "Va2jCcLQaUyZ",
        "outputId": "60268958-7b6b-496c-8afe-66b046f9c4f0"
      },
      "execution_count": null,
      "outputs": [
        {
          "output_type": "execute_result",
          "data": {
            "text/plain": [
              "120"
            ]
          },
          "metadata": {},
          "execution_count": 68
        }
      ]
    },
    {
      "cell_type": "code",
      "source": [
        "reduce(lambda el1, el2: {el2: el1}, reversed(crazy_list))"
      ],
      "metadata": {
        "colab": {
          "base_uri": "https://localhost:8080/"
        },
        "id": "ZO5Ng2pDaU08",
        "outputId": "c75b424c-cdfa-4df0-fa2f-0448c201aee5"
      },
      "execution_count": null,
      "outputs": [
        {
          "output_type": "execute_result",
          "data": {
            "text/plain": [
              "{'2018-01-01': {'yandex': {'cpc': 100}}}"
            ]
          },
          "metadata": {},
          "execution_count": 70
        }
      ]
    },
    {
      "cell_type": "code",
      "source": [],
      "metadata": {
        "id": "ePbX7ermaU5z"
      },
      "execution_count": null,
      "outputs": []
    },
    {
      "cell_type": "markdown",
      "metadata": {
        "id": "OgFcwZp-Z-ck"
      },
      "source": [
        "### Спасибо за внимание буду рад ответить на ваши вопросы!\n",
        "Ссылка на форму ОС:\n",
        "https://skillfactoryschool.typeform.com/to/wY5lRTGh?typeform-source=www.google.com\n"
      ]
    },
    {
      "cell_type": "code",
      "source": [],
      "metadata": {
        "id": "qafS5-LDS9nl"
      },
      "execution_count": null,
      "outputs": []
    }
  ]
}